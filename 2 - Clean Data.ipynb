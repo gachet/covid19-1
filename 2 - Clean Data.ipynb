{
 "cells": [
  {
   "cell_type": "code",
   "execution_count": null,
   "metadata": {},
   "outputs": [],
   "source": [
    "import pandas as pd\n",
    "import numpy as np\n",
    "import sys\n",
    "import matplotlib.pyplot as plt\n",
    "import glob\n",
    "import os"
   ]
  },
  {
   "cell_type": "markdown",
   "metadata": {},
   "source": [
    "# Read CSV"
   ]
  },
  {
   "cell_type": "code",
   "execution_count": null,
   "metadata": {},
   "outputs": [],
   "source": [
    "# Get all Tweets file paths\n",
    "raw_data_path = r'data/raw/*Tweets*.csv'\n",
    "csv_files = glob.glob(raw_data_path)\n",
    "csv_files"
   ]
  },
  {
   "cell_type": "code",
   "execution_count": null,
   "metadata": {},
   "outputs": [],
   "source": [
    "use_columns = ['created_at','text', 'retweet_count', 'country_code', 'followers_count', 'lang', 'screen_name']\n",
    "data_frames = []\n",
    "for file in csv_files:\n",
    "    df = pd.read_csv(file, encoding='utf-8', usecols=use_columns)\n",
    "    data_frames.append(df)\n",
    "df = pd.concat(data_frames)\n",
    "del data_frames\n",
    "df.head()"
   ]
  },
  {
   "cell_type": "markdown",
   "metadata": {},
   "source": [
    "# Clean data"
   ]
  },
  {
   "cell_type": "code",
   "execution_count": null,
   "metadata": {},
   "outputs": [],
   "source": [
    "es_twitts = df.query('lang == \"es\"')"
   ]
  },
  {
   "cell_type": "code",
   "execution_count": null,
   "metadata": {},
   "outputs": [],
   "source": [
    "# change accentsb\n",
    "es_twitts.replace('á','a', regex=True, inplace=True)\n",
    "es_twitts.replace('é','e', regex=True, inplace=True)\n",
    "es_twitts.replace('í','i', regex=True, inplace=True)\n",
    "es_twitts.replace('ó','o', regex=True, inplace=True)\n",
    "es_twitts.replace('ú','u', regex=True, inplace=True)"
   ]
  },
  {
   "cell_type": "code",
   "execution_count": null,
   "metadata": {},
   "outputs": [],
   "source": [
    "es_twitts.replace('#','', regex=True, inplace=True)\n",
    "es_twitts.replace('!','', regex=True, inplace=True)\n",
    "es_twitts.replace('@','', regex=True, inplace=True)\n",
    "es_twitts.replace('$','', regex=True, inplace=True)"
   ]
  },
  {
   "cell_type": "markdown",
   "metadata": {},
   "source": [
    "# Export clean es twitts to CSV"
   ]
  },
  {
   "cell_type": "code",
   "execution_count": null,
   "metadata": {},
   "outputs": [],
   "source": [
    "## Export csv twitts in Spanish\n",
    "es_twitts.to_csv(r'data\\clean\\es_twitts.csv', index = None, header=True)"
   ]
  }
 ],
 "metadata": {
  "kernelspec": {
   "display_name": "Python 3",
   "language": "python",
   "name": "python3"
  },
  "language_info": {
   "codemirror_mode": {
    "name": "ipython",
    "version": 3
   },
   "file_extension": ".py",
   "mimetype": "text/x-python",
   "name": "python",
   "nbconvert_exporter": "python",
   "pygments_lexer": "ipython3",
   "version": "3.7.4"
  }
 },
 "nbformat": 4,
 "nbformat_minor": 2
}
