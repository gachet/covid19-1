{
 "cells": [
  {
   "cell_type": "markdown",
   "metadata": {
    "ExecuteTime": {
     "end_time": "2020-05-02T19:43:52.006881Z",
     "start_time": "2020-05-02T19:43:52.004297Z"
    },
    "heading_collapsed": true
   },
   "source": [
    "# Imports"
   ]
  },
  {
   "cell_type": "code",
   "execution_count": null,
   "metadata": {
    "ExecuteTime": {
     "end_time": "2020-05-30T16:11:01.900616Z",
     "start_time": "2020-05-30T16:11:01.479345Z"
    },
    "hidden": true
   },
   "outputs": [],
   "source": [
    "import pandas as pd\n",
    "import numpy as np\n",
    "import sys\n",
    "import matplotlib.pyplot as plt\n",
    "import glob\n",
    "import os"
   ]
  },
  {
   "cell_type": "markdown",
   "metadata": {
    "heading_collapsed": true,
    "hidden": true
   },
   "source": [
    "## init"
   ]
  },
  {
   "cell_type": "code",
   "execution_count": null,
   "metadata": {
    "ExecuteTime": {
     "end_time": "2020-05-30T16:11:01.904926Z",
     "start_time": "2020-05-30T16:11:01.902124Z"
    },
    "hidden": true
   },
   "outputs": [],
   "source": [
    "plt.close('all')\n",
    "pd.options.display.max_rows = 999"
   ]
  },
  {
   "cell_type": "code",
   "execution_count": null,
   "metadata": {
    "ExecuteTime": {
     "end_time": "2020-05-30T16:11:01.916809Z",
     "start_time": "2020-05-30T16:11:01.912635Z"
    },
    "hidden": true
   },
   "outputs": [],
   "source": [
    "# Get all Tweets file paths\n",
    "raw_data_path = r'data/raw/*Tweets*.csv'\n",
    "csv_files = glob.glob(raw_data_path)\n",
    "csv_files"
   ]
  },
  {
   "cell_type": "markdown",
   "metadata": {
    "ExecuteTime": {
     "end_time": "2020-05-02T19:51:35.964831Z",
     "start_time": "2020-05-02T19:51:35.962184Z"
    },
    "heading_collapsed": true
   },
   "source": [
    "# At glace"
   ]
  },
  {
   "cell_type": "code",
   "execution_count": null,
   "metadata": {
    "ExecuteTime": {
     "end_time": "2020-05-30T16:11:06.947796Z",
     "start_time": "2020-05-30T16:11:01.930229Z"
    },
    "hidden": true
   },
   "outputs": [],
   "source": [
    "df_at_glace = pd.read_csv(csv_files[0], encoding='utf-8')\n",
    "df_at_glace.head()"
   ]
  },
  {
   "cell_type": "markdown",
   "metadata": {
    "ExecuteTime": {
     "end_time": "2020-05-02T19:48:04.290060Z",
     "start_time": "2020-05-02T19:48:04.287657Z"
    },
    "heading_collapsed": true
   },
   "source": [
    "# Read Files"
   ]
  },
  {
   "cell_type": "code",
   "execution_count": null,
   "metadata": {
    "ExecuteTime": {
     "end_time": "2020-05-30T16:12:09.547089Z",
     "start_time": "2020-05-30T16:11:07.433634Z"
    },
    "hidden": true
   },
   "outputs": [],
   "source": [
    "use_columns = ['created_at','text', 'retweet_count', 'country_code', 'followers_count', 'lang', 'screen_name']\n",
    "data_frames = []\n",
    "for file in csv_files:\n",
    "    df = pd.read_csv(file, encoding='utf-8', usecols=use_columns)\n",
    "    data_frames.append(df)\n",
    "df = pd.concat(data_frames)\n",
    "del data_frames\n",
    "df.head()"
   ]
  },
  {
   "cell_type": "markdown",
   "metadata": {},
   "source": [
    "# Eda"
   ]
  },
  {
   "cell_type": "markdown",
   "metadata": {
    "heading_collapsed": true
   },
   "source": [
    "## MX Twitts"
   ]
  },
  {
   "cell_type": "code",
   "execution_count": null,
   "metadata": {
    "ExecuteTime": {
     "end_time": "2020-05-30T16:26:40.787516Z",
     "start_time": "2020-05-30T16:26:40.181720Z"
    },
    "hidden": true
   },
   "outputs": [],
   "source": [
    "mx_twitts = df.query('country_code == \"MX\"')"
   ]
  },
  {
   "cell_type": "markdown",
   "metadata": {
    "heading_collapsed": true
   },
   "source": [
    "## ES twitts"
   ]
  },
  {
   "cell_type": "code",
   "execution_count": null,
   "metadata": {
    "ExecuteTime": {
     "end_time": "2020-05-30T16:12:14.684379Z",
     "start_time": "2020-05-30T16:12:11.944569Z"
    },
    "hidden": true
   },
   "outputs": [],
   "source": [
    "es_twitts = df.query('lang == \"es\"')"
   ]
  },
  {
   "cell_type": "code",
   "execution_count": null,
   "metadata": {
    "ExecuteTime": {
     "end_time": "2020-05-30T16:12:15.314864Z",
     "start_time": "2020-05-30T16:12:14.685591Z"
    },
    "hidden": true
   },
   "outputs": [],
   "source": [
    "es_twitts.count()"
   ]
  },
  {
   "cell_type": "markdown",
   "metadata": {
    "heading_collapsed": true
   },
   "source": [
    "## Total vs Es vs Mx"
   ]
  },
  {
   "cell_type": "code",
   "execution_count": null,
   "metadata": {
    "ExecuteTime": {
     "end_time": "2020-05-30T16:12:15.943181Z",
     "start_time": "2020-05-30T16:12:15.316287Z"
    },
    "hidden": true
   },
   "outputs": [],
   "source": [
    "es_twitts.count()"
   ]
  },
  {
   "cell_type": "code",
   "execution_count": null,
   "metadata": {
    "ExecuteTime": {
     "end_time": "2020-05-30T16:12:19.191636Z",
     "start_time": "2020-05-30T16:12:15.944839Z"
    },
    "hidden": true
   },
   "outputs": [],
   "source": [
    "df.count()"
   ]
  },
  {
   "cell_type": "code",
   "execution_count": null,
   "metadata": {
    "ExecuteTime": {
     "end_time": "2020-05-30T16:27:07.145502Z",
     "start_time": "2020-05-30T16:27:07.106893Z"
    },
    "hidden": true
   },
   "outputs": [],
   "source": [
    "mx_twitts.count()"
   ]
  },
  {
   "cell_type": "markdown",
   "metadata": {},
   "source": [
    "## Chart Total vs ES vs MX"
   ]
  },
  {
   "cell_type": "code",
   "execution_count": null,
   "metadata": {
    "ExecuteTime": {
     "end_time": "2020-05-30T16:22:44.439912Z",
     "start_time": "2020-05-30T16:22:44.435121Z"
    },
    "hidden": true
   },
   "outputs": [],
   "source": [
    "total_twitts = df.count()['text']\n",
    "total_es = es_twitts.count()['text']\n",
    "total_mx = mx_twitts.count()['text']\n",
    "\n",
    "twitts_total_and_es = {'labels': ['total', 'es', 'mx'], 'values': [total_twitts, total_es, total_mx]} \n",
    "d = pd.DataFrame(data=twitts_total_and_es)"
   ]
  },
  {
   "cell_type": "code",
   "execution_count": null,
   "metadata": {
    "ExecuteTime": {
     "end_time": "2020-05-30T16:23:03.621815Z",
     "start_time": "2020-05-30T16:23:03.488701Z"
    }
   },
   "outputs": [],
   "source": [
    "d.plot.bar(x='labels', y='values', rot=0)"
   ]
  },
  {
   "cell_type": "markdown",
   "metadata": {
    "heading_collapsed": true
   },
   "source": [
    "## Es twitts acounting"
   ]
  },
  {
   "cell_type": "code",
   "execution_count": null,
   "metadata": {
    "ExecuteTime": {
     "end_time": "2020-05-30T16:12:31.612782Z",
     "start_time": "2020-05-30T16:12:23.585947Z"
    },
    "hidden": true
   },
   "outputs": [],
   "source": [
    "screen_name_total = es_twitts.groupby('screen_name')['text'].nunique().reset_index()\n",
    "\n",
    "ten = screen_name_total.sort_values(by='text', ascending=False).head(10)\n",
    "ten"
   ]
  },
  {
   "cell_type": "markdown",
   "metadata": {
    "ExecuteTime": {
     "end_time": "2020-05-02T21:54:43.285317Z",
     "start_time": "2020-05-02T21:54:43.282767Z"
    },
    "heading_collapsed": true
   },
   "source": [
    "## es twitts accounting Chart"
   ]
  },
  {
   "cell_type": "code",
   "execution_count": null,
   "metadata": {
    "ExecuteTime": {
     "end_time": "2020-05-30T16:12:31.883554Z",
     "start_time": "2020-05-30T16:12:31.704765Z"
    },
    "hidden": true
   },
   "outputs": [],
   "source": [
    "ten.plot.bar(x='screen_name', y='text', rot=30)"
   ]
  },
  {
   "cell_type": "markdown",
   "metadata": {
    "ExecuteTime": {
     "end_time": "2020-05-02T23:11:28.213739Z",
     "start_time": "2020-05-02T23:11:28.211444Z"
    },
    "heading_collapsed": true
   },
   "source": [
    "## Histogram twitts ES Chart"
   ]
  },
  {
   "cell_type": "code",
   "execution_count": null,
   "metadata": {
    "ExecuteTime": {
     "end_time": "2020-05-30T16:12:40.319019Z",
     "start_time": "2020-05-30T16:12:39.167726Z"
    },
    "hidden": true
   },
   "outputs": [],
   "source": [
    "line_df = es_twitts.groupby('created_at')['text'].nunique().reset_index()\n",
    "\n",
    "line_df.plot(figsize=(17,8), x='created_at', y='text', rot=45)"
   ]
  },
  {
   "cell_type": "markdown",
   "metadata": {
    "heading_collapsed": true
   },
   "source": [
    "## Country code"
   ]
  },
  {
   "cell_type": "code",
   "execution_count": null,
   "metadata": {
    "ExecuteTime": {
     "end_time": "2020-05-30T16:12:46.939179Z",
     "start_time": "2020-05-30T16:12:40.320935Z"
    },
    "hidden": true
   },
   "outputs": [],
   "source": [
    "cc = es_twitts.groupby('country_code')['text'].nunique().reset_index()\n",
    "cc.sort_values(by='text', ascending=False, inplace=True)\n",
    "cc.head(15)"
   ]
  },
  {
   "cell_type": "markdown",
   "metadata": {
    "ExecuteTime": {
     "end_time": "2020-05-02T23:30:06.573869Z",
     "start_time": "2020-05-02T23:30:06.428821Z"
    },
    "heading_collapsed": true
   },
   "source": [
    "## Country code chart"
   ]
  },
  {
   "cell_type": "code",
   "execution_count": null,
   "metadata": {
    "ExecuteTime": {
     "end_time": "2020-05-30T16:12:47.169167Z",
     "start_time": "2020-05-30T16:12:46.969691Z"
    },
    "hidden": true
   },
   "outputs": [],
   "source": [
    "cc.head(15).plot.bar(x='country_code', y='text', rot=0)"
   ]
  }
 ],
 "metadata": {
  "hide_input": true,
  "kernelspec": {
   "display_name": "Python 3",
   "language": "python",
   "name": "python3"
  },
  "language_info": {
   "codemirror_mode": {
    "name": "ipython",
    "version": 3
   },
   "file_extension": ".py",
   "mimetype": "text/x-python",
   "name": "python",
   "nbconvert_exporter": "python",
   "pygments_lexer": "ipython3",
   "version": "3.7.4"
  },
  "notify_time": "5",
  "toc": {
   "base_numbering": 1,
   "nav_menu": {},
   "number_sections": true,
   "sideBar": true,
   "skip_h1_title": false,
   "title_cell": "Table of Contents",
   "title_sidebar": "Contents",
   "toc_cell": false,
   "toc_position": {
    "height": "calc(100% - 180px)",
    "left": "10px",
    "top": "150px",
    "width": "209.8px"
   },
   "toc_section_display": true,
   "toc_window_display": true
  },
  "varInspector": {
   "cols": {
    "lenName": 16,
    "lenType": 16,
    "lenVar": 40
   },
   "kernels_config": {
    "python": {
     "delete_cmd_postfix": "",
     "delete_cmd_prefix": "del ",
     "library": "var_list.py",
     "varRefreshCmd": "print(var_dic_list())"
    },
    "r": {
     "delete_cmd_postfix": ") ",
     "delete_cmd_prefix": "rm(",
     "library": "var_list.r",
     "varRefreshCmd": "cat(var_dic_list()) "
    }
   },
   "oldHeight": 531.8,
   "position": {
    "height": "553.4px",
    "left": "930px",
    "right": "20px",
    "top": "120px",
    "width": "587.8px"
   },
   "types_to_exclude": [
    "module",
    "function",
    "builtin_function_or_method",
    "instance",
    "_Feature"
   ],
   "varInspector_section_display": "block",
   "window_display": false
  }
 },
 "nbformat": 4,
 "nbformat_minor": 4
}
