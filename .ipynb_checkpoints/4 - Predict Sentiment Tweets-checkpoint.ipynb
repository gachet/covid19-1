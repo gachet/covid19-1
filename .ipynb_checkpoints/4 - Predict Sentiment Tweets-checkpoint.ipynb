{
 "cells": [
  {
   "cell_type": "code",
   "execution_count": null,
   "metadata": {},
   "outputs": [],
   "source": [
    "import pandas as pd\n",
    "import pickle\n",
    "from nltk.tokenize import word_tokenize\n",
    "import datetime as dt\n",
    "import plotly.graph_objects as go\n",
    "from wordcloud import WordCloud, STOPWORDS, ImageColorGenerator\n",
    "import matplotlib.pyplot as plt"
   ]
  },
  {
   "cell_type": "code",
   "execution_count": null,
   "metadata": {},
   "outputs": [],
   "source": [
    "## Import csv twitts in Spanish\n",
    "mx_twitts=pd.read_csv('data/clean/mx_twitts.csv')"
   ]
  },
  {
   "cell_type": "code",
   "execution_count": null,
   "metadata": {},
   "outputs": [],
   "source": [
    "mx_twitts.head(6)"
   ]
  },
  {
   "cell_type": "markdown",
   "metadata": {},
   "source": [
    "## Load Sentiment Model Trained and Tested"
   ]
  },
  {
   "cell_type": "code",
   "execution_count": null,
   "metadata": {},
   "outputs": [],
   "source": [
    "# To load:\n",
    "f = open('sentiment_classifier.pickle', 'rb')\n",
    "classifier = pickle.load(f)\n",
    "f.close()"
   ]
  },
  {
   "cell_type": "markdown",
   "metadata": {},
   "source": [
    "## Run model to classify twitts"
   ]
  },
  {
   "cell_type": "code",
   "execution_count": null,
   "metadata": {},
   "outputs": [],
   "source": [
    "pd.options.mode.chained_assignment = None  # default='warn'\n",
    "\n",
    "for index, row in mx_twitts.iterrows():\n",
    "    \n",
    "    custom_tokens = word_tokenize(row['text'])    \n",
    "    \n",
    "    mx_twitts.at[index,'classified']=classifier.classify(dict([token, True] for token in custom_tokens))    "
   ]
  },
  {
   "cell_type": "code",
   "execution_count": null,
   "metadata": {},
   "outputs": [],
   "source": [
    "mx_twitts.head(5)"
   ]
  },
  {
   "cell_type": "code",
   "execution_count": null,
   "metadata": {},
   "outputs": [],
   "source": [
    "# Imporing the necessary columns to plot\n",
    "mx_twitts_plot = pd.DataFrame()\n",
    "\n",
    "mx_twitts_plot[\"created_at\"]=mx_twitts.created_at\n",
    "\n",
    "mx_twitts_plot.loc[mx_twitts['classified'].str.contains('Positive'), 'pos'] = 'yes'\n",
    "mx_twitts_plot.loc[mx_twitts['classified'].str.contains('Negative'), 'neg'] = 'yes'"
   ]
  },
  {
   "cell_type": "code",
   "execution_count": null,
   "metadata": {},
   "outputs": [],
   "source": [
    "mx_twitts_plot.head(5)"
   ]
  },
  {
   "cell_type": "code",
   "execution_count": null,
   "metadata": {},
   "outputs": [],
   "source": [
    "#pd.options.mode.chained_assignment = None  # default='warn'\n",
    "\n",
    "# Coverting all date values in proper Datetime format\n",
    "for i in range(len(mx_twitts_plot.created_at)):\n",
    "     mx_twitts_plot.created_at[i] = dt.datetime.strptime(mx_twitts_plot.created_at[i],'%Y-%m-%dT%H:%M:%SZ').date()"
   ]
  },
  {
   "cell_type": "code",
   "execution_count": null,
   "metadata": {},
   "outputs": [],
   "source": [
    "# Add new columns to get positive/negavite counts per day\n",
    "mx_twitts_plot['count_pos']  = mx_twitts_plot.groupby('created_at')['pos'].transform('count')\n",
    "mx_twitts_plot['count_neg'] = mx_twitts_plot.groupby('created_at')['neg'].transform('count')\n",
    "\n",
    "mx_twitts_plot.drop(['pos', 'neg'],axis=1,inplace=True)\n",
    "mx_twitts_plot.drop_duplicates(inplace=True)"
   ]
  },
  {
   "cell_type": "code",
   "execution_count": null,
   "metadata": {},
   "outputs": [],
   "source": [
    "mx_twitts_plot.head(5)"
   ]
  },
  {
   "cell_type": "markdown",
   "metadata": {},
   "source": [
    "## Plotting twitts Classified"
   ]
  },
  {
   "cell_type": "code",
   "execution_count": null,
   "metadata": {},
   "outputs": [],
   "source": [
    "fig = go.Figure()\n",
    "fig.add_trace(go.Scatter(x=mx_twitts_plot['created_at'], y=mx_twitts_plot['count_pos'], name=\"Positive\",\n",
    "                         line_color='deepskyblue'))\n",
    "\n",
    "fig.add_trace(go.Scatter(x=mx_twitts_plot['created_at'], y=mx_twitts_plot['count_neg'], name=\"Negative\",\n",
    "                         line_color='dimgray'))\n",
    "\n",
    "fig.update_layout(title_text='MX Twitts Positive/Negative Per Day',\n",
    "                  xaxis_rangeslider_visible=True)\n",
    "fig.show()"
   ]
  },
  {
   "cell_type": "markdown",
   "metadata": {},
   "source": [
    "## Word Cloud By Twitts Classified"
   ]
  },
  {
   "cell_type": "code",
   "execution_count": null,
   "metadata": {},
   "outputs": [],
   "source": [
    "pos_twitts=mx_twitts.query('classified==\"Positive\"')\n",
    "neg_twitts=mx_twitts.query('classified==\"Negative\"')"
   ]
  },
  {
   "cell_type": "code",
   "execution_count": null,
   "metadata": {},
   "outputs": [],
   "source": [
    "#text = df.description[0]\n",
    "text = (\" \").join(pos_twitts.clean_text.tolist())\n",
    "\n",
    "# Create and generate a word cloud image:\n",
    "wordcloud = WordCloud().generate(text)\n",
    "\n",
    "# Display the generated image:\n",
    "plt.imshow(wordcloud, interpolation='bilinear')\n",
    "plt.axis(\"off\")\n",
    "plt.show()"
   ]
  },
  {
   "cell_type": "code",
   "execution_count": null,
   "metadata": {},
   "outputs": [],
   "source": [
    "#text = df.description[0]\n",
    "text = (\" \").join(neg_twitts.clean_text.tolist())\n",
    "\n",
    "# Create and generate a word cloud image:\n",
    "wordcloud = WordCloud().generate(text)\n",
    "\n",
    "# Display the generated image:\n",
    "plt.imshow(wordcloud, interpolation='bilinear')\n",
    "plt.axis(\"off\")\n",
    "plt.show()"
   ]
  }
 ],
 "metadata": {
  "kernelspec": {
   "display_name": "Python 3",
   "language": "python",
   "name": "python3"
  },
  "language_info": {
   "codemirror_mode": {
    "name": "ipython",
    "version": 3
   },
   "file_extension": ".py",
   "mimetype": "text/x-python",
   "name": "python",
   "nbconvert_exporter": "python",
   "pygments_lexer": "ipython3",
   "version": "3.7.6"
  }
 },
 "nbformat": 4,
 "nbformat_minor": 2
}
