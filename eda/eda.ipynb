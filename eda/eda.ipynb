{
 "cells": [
  {
   "cell_type": "markdown",
   "metadata": {
    "ExecuteTime": {
     "end_time": "2020-05-02T19:43:52.006881Z",
     "start_time": "2020-05-02T19:43:52.004297Z"
    },
    "heading_collapsed": true
   },
   "source": [
    "# Imports"
   ]
  },
  {
   "cell_type": "code",
   "execution_count": 1,
   "metadata": {
    "ExecuteTime": {
     "end_time": "2020-05-30T16:11:01.900616Z",
     "start_time": "2020-05-30T16:11:01.479345Z"
    },
    "hidden": true
   },
   "outputs": [],
   "source": [
    "import pandas as pd\n",
    "import numpy as np\n",
    "import sys\n",
    "import matplotlib.pyplot as plt\n",
    "import glob\n",
    "import os"
   ]
  },
  {
   "cell_type": "markdown",
   "metadata": {
    "heading_collapsed": true,
    "hidden": true
   },
   "source": [
    "## init"
   ]
  },
  {
   "cell_type": "code",
   "execution_count": 2,
   "metadata": {
    "ExecuteTime": {
     "end_time": "2020-05-30T16:11:01.904926Z",
     "start_time": "2020-05-30T16:11:01.902124Z"
    },
    "hidden": true
   },
   "outputs": [],
   "source": [
    "plt.close('all')\n",
    "pd.options.display.max_rows = 999"
   ]
  },
  {
   "cell_type": "code",
   "execution_count": 5,
   "metadata": {
    "ExecuteTime": {
     "end_time": "2020-05-30T16:11:01.916809Z",
     "start_time": "2020-05-30T16:11:01.912635Z"
    },
    "hidden": true
   },
   "outputs": [
    {
     "data": {
      "text/plain": [
       "['../data/raw\\\\2020-03-29 Coronavirus Tweets.CSV',\n",
       " '../data/raw\\\\2020-03-30 Coronavirus Tweets.CSV',\n",
       " '../data/raw\\\\2020-03-31 Coronavirus Tweets.CSV',\n",
       " '../data/raw\\\\2020-04-01 Coronavirus Tweets.CSV',\n",
       " '../data/raw\\\\2020-04-02 Coronavirus Tweets.CSV',\n",
       " '../data/raw\\\\2020-04-03 Coronavirus Tweets.CSV',\n",
       " '../data/raw\\\\2020-04-04 Coronavirus Tweets.CSV',\n",
       " '../data/raw\\\\2020-04-05 Coronavirus Tweets.CSV',\n",
       " '../data/raw\\\\2020-04-06 Coronavirus Tweets.CSV',\n",
       " '../data/raw\\\\2020-04-07 Coronavirus Tweets.CSV',\n",
       " '../data/raw\\\\2020-04-08 Coronavirus Tweets.CSV',\n",
       " '../data/raw\\\\2020-04-09 Coronavirus Tweets.CSV',\n",
       " '../data/raw\\\\2020-04-10 Coronavirus Tweets.CSV',\n",
       " '../data/raw\\\\2020-04-11 Coronavirus Tweets.CSV',\n",
       " '../data/raw\\\\2020-04-12 Coronavirus Tweets.CSV',\n",
       " '../data/raw\\\\2020-04-13 Coronavirus Tweets.CSV',\n",
       " '../data/raw\\\\2020-04-14 Coronavirus Tweets.CSV',\n",
       " '../data/raw\\\\2020-04-15 Coronavirus Tweets.CSV']"
      ]
     },
     "execution_count": 5,
     "metadata": {},
     "output_type": "execute_result"
    }
   ],
   "source": [
    "# Get all Tweets file paths\n",
    "raw_data_path = r'../data/raw/*Tweets*.csv'\n",
    "csv_files = glob.glob(raw_data_path)\n",
    "csv_files"
   ]
  },
  {
   "cell_type": "markdown",
   "metadata": {
    "ExecuteTime": {
     "end_time": "2020-05-02T19:51:35.964831Z",
     "start_time": "2020-05-02T19:51:35.962184Z"
    },
    "heading_collapsed": true
   },
   "source": [
    "# At glace"
   ]
  },
  {
   "cell_type": "code",
   "execution_count": 6,
   "metadata": {
    "ExecuteTime": {
     "end_time": "2020-05-30T16:11:06.947796Z",
     "start_time": "2020-05-30T16:11:01.930229Z"
    },
    "hidden": true
   },
   "outputs": [
    {
     "data": {
      "text/html": [
       "<div>\n",
       "<style scoped>\n",
       "    .dataframe tbody tr th:only-of-type {\n",
       "        vertical-align: middle;\n",
       "    }\n",
       "\n",
       "    .dataframe tbody tr th {\n",
       "        vertical-align: top;\n",
       "    }\n",
       "\n",
       "    .dataframe thead th {\n",
       "        text-align: right;\n",
       "    }\n",
       "</style>\n",
       "<table border=\"1\" class=\"dataframe\">\n",
       "  <thead>\n",
       "    <tr style=\"text-align: right;\">\n",
       "      <th></th>\n",
       "      <th>status_id</th>\n",
       "      <th>user_id</th>\n",
       "      <th>created_at</th>\n",
       "      <th>screen_name</th>\n",
       "      <th>text</th>\n",
       "      <th>source</th>\n",
       "      <th>reply_to_status_id</th>\n",
       "      <th>reply_to_user_id</th>\n",
       "      <th>reply_to_screen_name</th>\n",
       "      <th>is_quote</th>\n",
       "      <th>...</th>\n",
       "      <th>retweet_count</th>\n",
       "      <th>country_code</th>\n",
       "      <th>place_full_name</th>\n",
       "      <th>place_type</th>\n",
       "      <th>followers_count</th>\n",
       "      <th>friends_count</th>\n",
       "      <th>account_lang</th>\n",
       "      <th>account_created_at</th>\n",
       "      <th>verified</th>\n",
       "      <th>lang</th>\n",
       "    </tr>\n",
       "  </thead>\n",
       "  <tbody>\n",
       "    <tr>\n",
       "      <td>0</td>\n",
       "      <td>1244051646071611394</td>\n",
       "      <td>860252856829587457</td>\n",
       "      <td>2020-03-29T00:00:00Z</td>\n",
       "      <td>IMSS_SanLuis</td>\n",
       "      <td>Ante cualquier enfermedad respiratoria, no te ...</td>\n",
       "      <td>TweetDeck</td>\n",
       "      <td>NaN</td>\n",
       "      <td>NaN</td>\n",
       "      <td>NaN</td>\n",
       "      <td>False</td>\n",
       "      <td>...</td>\n",
       "      <td>0</td>\n",
       "      <td>NaN</td>\n",
       "      <td>NaN</td>\n",
       "      <td>NaN</td>\n",
       "      <td>1008</td>\n",
       "      <td>41</td>\n",
       "      <td>NaN</td>\n",
       "      <td>2017-05-04T22:00:38Z</td>\n",
       "      <td>False</td>\n",
       "      <td>es</td>\n",
       "    </tr>\n",
       "    <tr>\n",
       "      <td>1</td>\n",
       "      <td>1244051645039706112</td>\n",
       "      <td>1125933654943895553</td>\n",
       "      <td>2020-03-29T00:00:00Z</td>\n",
       "      <td>intrac_ccs</td>\n",
       "      <td>#ATENCIÓN En el Terminal Nuevo Circo se implem...</td>\n",
       "      <td>TweetDeck</td>\n",
       "      <td>NaN</td>\n",
       "      <td>NaN</td>\n",
       "      <td>NaN</td>\n",
       "      <td>False</td>\n",
       "      <td>...</td>\n",
       "      <td>1</td>\n",
       "      <td>NaN</td>\n",
       "      <td>NaN</td>\n",
       "      <td>NaN</td>\n",
       "      <td>90</td>\n",
       "      <td>316</td>\n",
       "      <td>NaN</td>\n",
       "      <td>2019-05-08T01:21:16Z</td>\n",
       "      <td>False</td>\n",
       "      <td>es</td>\n",
       "    </tr>\n",
       "    <tr>\n",
       "      <td>2</td>\n",
       "      <td>1244051645975191557</td>\n",
       "      <td>80943559</td>\n",
       "      <td>2020-03-29T00:00:00Z</td>\n",
       "      <td>rlieving</td>\n",
       "      <td>“People are just storing up. They are staying ...</td>\n",
       "      <td>TweetDeck</td>\n",
       "      <td>NaN</td>\n",
       "      <td>NaN</td>\n",
       "      <td>NaN</td>\n",
       "      <td>False</td>\n",
       "      <td>...</td>\n",
       "      <td>0</td>\n",
       "      <td>NaN</td>\n",
       "      <td>NaN</td>\n",
       "      <td>NaN</td>\n",
       "      <td>136</td>\n",
       "      <td>457</td>\n",
       "      <td>NaN</td>\n",
       "      <td>2009-10-08T21:06:08Z</td>\n",
       "      <td>False</td>\n",
       "      <td>en</td>\n",
       "    </tr>\n",
       "    <tr>\n",
       "      <td>3</td>\n",
       "      <td>1244051646750928897</td>\n",
       "      <td>817072420947247104</td>\n",
       "      <td>2020-03-29T00:00:00Z</td>\n",
       "      <td>Tu_IMSS_Coah</td>\n",
       "      <td>Si empezaste a trabajar, necesitas dar de alta...</td>\n",
       "      <td>TweetDeck</td>\n",
       "      <td>NaN</td>\n",
       "      <td>NaN</td>\n",
       "      <td>NaN</td>\n",
       "      <td>False</td>\n",
       "      <td>...</td>\n",
       "      <td>0</td>\n",
       "      <td>NaN</td>\n",
       "      <td>NaN</td>\n",
       "      <td>NaN</td>\n",
       "      <td>1549</td>\n",
       "      <td>170</td>\n",
       "      <td>NaN</td>\n",
       "      <td>2017-01-05T18:17:00Z</td>\n",
       "      <td>False</td>\n",
       "      <td>es</td>\n",
       "    </tr>\n",
       "    <tr>\n",
       "      <td>4</td>\n",
       "      <td>1244051647032102914</td>\n",
       "      <td>788863557349670913</td>\n",
       "      <td>2020-03-29T00:00:00Z</td>\n",
       "      <td>Tabasco_IMSS</td>\n",
       "      <td>Una sociedad informada está mejor preparada an...</td>\n",
       "      <td>TweetDeck</td>\n",
       "      <td>NaN</td>\n",
       "      <td>NaN</td>\n",
       "      <td>NaN</td>\n",
       "      <td>False</td>\n",
       "      <td>...</td>\n",
       "      <td>0</td>\n",
       "      <td>NaN</td>\n",
       "      <td>NaN</td>\n",
       "      <td>NaN</td>\n",
       "      <td>868</td>\n",
       "      <td>125</td>\n",
       "      <td>NaN</td>\n",
       "      <td>2016-10-19T22:05:03Z</td>\n",
       "      <td>False</td>\n",
       "      <td>es</td>\n",
       "    </tr>\n",
       "  </tbody>\n",
       "</table>\n",
       "<p>5 rows × 22 columns</p>\n",
       "</div>"
      ],
      "text/plain": [
       "             status_id              user_id            created_at  \\\n",
       "0  1244051646071611394   860252856829587457  2020-03-29T00:00:00Z   \n",
       "1  1244051645039706112  1125933654943895553  2020-03-29T00:00:00Z   \n",
       "2  1244051645975191557             80943559  2020-03-29T00:00:00Z   \n",
       "3  1244051646750928897   817072420947247104  2020-03-29T00:00:00Z   \n",
       "4  1244051647032102914   788863557349670913  2020-03-29T00:00:00Z   \n",
       "\n",
       "    screen_name                                               text     source  \\\n",
       "0  IMSS_SanLuis  Ante cualquier enfermedad respiratoria, no te ...  TweetDeck   \n",
       "1    intrac_ccs  #ATENCIÓN En el Terminal Nuevo Circo se implem...  TweetDeck   \n",
       "2      rlieving  “People are just storing up. They are staying ...  TweetDeck   \n",
       "3  Tu_IMSS_Coah  Si empezaste a trabajar, necesitas dar de alta...  TweetDeck   \n",
       "4  Tabasco_IMSS  Una sociedad informada está mejor preparada an...  TweetDeck   \n",
       "\n",
       "   reply_to_status_id  reply_to_user_id reply_to_screen_name  is_quote  ...  \\\n",
       "0                 NaN               NaN                  NaN     False  ...   \n",
       "1                 NaN               NaN                  NaN     False  ...   \n",
       "2                 NaN               NaN                  NaN     False  ...   \n",
       "3                 NaN               NaN                  NaN     False  ...   \n",
       "4                 NaN               NaN                  NaN     False  ...   \n",
       "\n",
       "   retweet_count  country_code  place_full_name place_type followers_count  \\\n",
       "0              0           NaN              NaN        NaN            1008   \n",
       "1              1           NaN              NaN        NaN              90   \n",
       "2              0           NaN              NaN        NaN             136   \n",
       "3              0           NaN              NaN        NaN            1549   \n",
       "4              0           NaN              NaN        NaN             868   \n",
       "\n",
       "  friends_count  account_lang    account_created_at  verified lang  \n",
       "0            41           NaN  2017-05-04T22:00:38Z     False   es  \n",
       "1           316           NaN  2019-05-08T01:21:16Z     False   es  \n",
       "2           457           NaN  2009-10-08T21:06:08Z     False   en  \n",
       "3           170           NaN  2017-01-05T18:17:00Z     False   es  \n",
       "4           125           NaN  2016-10-19T22:05:03Z     False   es  \n",
       "\n",
       "[5 rows x 22 columns]"
      ]
     },
     "execution_count": 6,
     "metadata": {},
     "output_type": "execute_result"
    }
   ],
   "source": [
    "df_at_glace = pd.read_csv(csv_files[0], encoding='utf-8')\n",
    "df_at_glace.head()"
   ]
  },
  {
   "cell_type": "markdown",
   "metadata": {
    "ExecuteTime": {
     "end_time": "2020-05-02T19:48:04.290060Z",
     "start_time": "2020-05-02T19:48:04.287657Z"
    },
    "heading_collapsed": true
   },
   "source": [
    "# Read Files"
   ]
  },
  {
   "cell_type": "code",
   "execution_count": 8,
   "metadata": {
    "ExecuteTime": {
     "end_time": "2020-05-30T16:12:09.547089Z",
     "start_time": "2020-05-30T16:11:07.433634Z"
    },
    "hidden": true
   },
   "outputs": [
    {
     "data": {
      "text/html": [
       "<div>\n",
       "<style scoped>\n",
       "    .dataframe tbody tr th:only-of-type {\n",
       "        vertical-align: middle;\n",
       "    }\n",
       "\n",
       "    .dataframe tbody tr th {\n",
       "        vertical-align: top;\n",
       "    }\n",
       "\n",
       "    .dataframe thead th {\n",
       "        text-align: right;\n",
       "    }\n",
       "</style>\n",
       "<table border=\"1\" class=\"dataframe\">\n",
       "  <thead>\n",
       "    <tr style=\"text-align: right;\">\n",
       "      <th></th>\n",
       "      <th>created_at</th>\n",
       "      <th>screen_name</th>\n",
       "      <th>text</th>\n",
       "      <th>retweet_count</th>\n",
       "      <th>country_code</th>\n",
       "      <th>followers_count</th>\n",
       "      <th>lang</th>\n",
       "    </tr>\n",
       "  </thead>\n",
       "  <tbody>\n",
       "    <tr>\n",
       "      <td>0</td>\n",
       "      <td>2020-03-29T00:00:00Z</td>\n",
       "      <td>IMSS_SanLuis</td>\n",
       "      <td>Ante cualquier enfermedad respiratoria, no te ...</td>\n",
       "      <td>0</td>\n",
       "      <td>NaN</td>\n",
       "      <td>1008</td>\n",
       "      <td>es</td>\n",
       "    </tr>\n",
       "    <tr>\n",
       "      <td>1</td>\n",
       "      <td>2020-03-29T00:00:00Z</td>\n",
       "      <td>intrac_ccs</td>\n",
       "      <td>#ATENCIÓN En el Terminal Nuevo Circo se implem...</td>\n",
       "      <td>1</td>\n",
       "      <td>NaN</td>\n",
       "      <td>90</td>\n",
       "      <td>es</td>\n",
       "    </tr>\n",
       "    <tr>\n",
       "      <td>2</td>\n",
       "      <td>2020-03-29T00:00:00Z</td>\n",
       "      <td>rlieving</td>\n",
       "      <td>“People are just storing up. They are staying ...</td>\n",
       "      <td>0</td>\n",
       "      <td>NaN</td>\n",
       "      <td>136</td>\n",
       "      <td>en</td>\n",
       "    </tr>\n",
       "    <tr>\n",
       "      <td>3</td>\n",
       "      <td>2020-03-29T00:00:00Z</td>\n",
       "      <td>Tu_IMSS_Coah</td>\n",
       "      <td>Si empezaste a trabajar, necesitas dar de alta...</td>\n",
       "      <td>0</td>\n",
       "      <td>NaN</td>\n",
       "      <td>1549</td>\n",
       "      <td>es</td>\n",
       "    </tr>\n",
       "    <tr>\n",
       "      <td>4</td>\n",
       "      <td>2020-03-29T00:00:00Z</td>\n",
       "      <td>Tabasco_IMSS</td>\n",
       "      <td>Una sociedad informada está mejor preparada an...</td>\n",
       "      <td>0</td>\n",
       "      <td>NaN</td>\n",
       "      <td>868</td>\n",
       "      <td>es</td>\n",
       "    </tr>\n",
       "  </tbody>\n",
       "</table>\n",
       "</div>"
      ],
      "text/plain": [
       "             created_at   screen_name  \\\n",
       "0  2020-03-29T00:00:00Z  IMSS_SanLuis   \n",
       "1  2020-03-29T00:00:00Z    intrac_ccs   \n",
       "2  2020-03-29T00:00:00Z      rlieving   \n",
       "3  2020-03-29T00:00:00Z  Tu_IMSS_Coah   \n",
       "4  2020-03-29T00:00:00Z  Tabasco_IMSS   \n",
       "\n",
       "                                                text  retweet_count  \\\n",
       "0  Ante cualquier enfermedad respiratoria, no te ...              0   \n",
       "1  #ATENCIÓN En el Terminal Nuevo Circo se implem...              1   \n",
       "2  “People are just storing up. They are staying ...              0   \n",
       "3  Si empezaste a trabajar, necesitas dar de alta...              0   \n",
       "4  Una sociedad informada está mejor preparada an...              0   \n",
       "\n",
       "  country_code  followers_count lang  \n",
       "0          NaN             1008   es  \n",
       "1          NaN               90   es  \n",
       "2          NaN              136   en  \n",
       "3          NaN             1549   es  \n",
       "4          NaN              868   es  "
      ]
     },
     "execution_count": 8,
     "metadata": {},
     "output_type": "execute_result"
    }
   ],
   "source": [
    "use_columns = ['created_at','text', 'retweet_count', 'country_code', 'followers_count', 'lang', 'screen_name']\n",
    "data_frames = []\n",
    "for file in csv_files:\n",
    "    df = pd.read_csv(file, encoding='utf-8', usecols=use_columns)\n",
    "    data_frames.append(df)\n",
    "df = pd.concat(data_frames)\n",
    "df.head()"
   ]
  },
  {
   "cell_type": "markdown",
   "metadata": {
    "heading_collapsed": true
   },
   "source": [
    "# MX Twitts"
   ]
  },
  {
   "cell_type": "code",
   "execution_count": 9,
   "metadata": {
    "ExecuteTime": {
     "end_time": "2020-05-30T16:26:40.787516Z",
     "start_time": "2020-05-30T16:26:40.181720Z"
    },
    "hidden": true
   },
   "outputs": [],
   "source": [
    "mx_twitts = df.query('country_code == \"MX\"')"
   ]
  },
  {
   "cell_type": "markdown",
   "metadata": {
    "heading_collapsed": true
   },
   "source": [
    "# ES twitts"
   ]
  },
  {
   "cell_type": "code",
   "execution_count": 10,
   "metadata": {
    "ExecuteTime": {
     "end_time": "2020-05-30T16:12:14.684379Z",
     "start_time": "2020-05-30T16:12:11.944569Z"
    },
    "hidden": true
   },
   "outputs": [],
   "source": [
    "es_twitts = df.query('lang == \"es\"')"
   ]
  },
  {
   "cell_type": "code",
   "execution_count": 11,
   "metadata": {
    "ExecuteTime": {
     "end_time": "2020-05-30T16:12:15.314864Z",
     "start_time": "2020-05-30T16:12:14.685591Z"
    },
    "hidden": true
   },
   "outputs": [
    {
     "data": {
      "text/plain": [
       "created_at         173087\n",
       "screen_name        173087\n",
       "text               173087\n",
       "retweet_count      173087\n",
       "country_code         8462\n",
       "followers_count    173087\n",
       "lang               173087\n",
       "dtype: int64"
      ]
     },
     "execution_count": 11,
     "metadata": {},
     "output_type": "execute_result"
    }
   ],
   "source": [
    "es_twitts.count()"
   ]
  },
  {
   "cell_type": "markdown",
   "metadata": {
    "heading_collapsed": true
   },
   "source": [
    "# Total vs Es vs Mx"
   ]
  },
  {
   "cell_type": "code",
   "execution_count": 12,
   "metadata": {
    "ExecuteTime": {
     "end_time": "2020-05-30T16:12:15.943181Z",
     "start_time": "2020-05-30T16:12:15.316287Z"
    },
    "hidden": true
   },
   "outputs": [
    {
     "data": {
      "text/plain": [
       "created_at         173087\n",
       "screen_name        173087\n",
       "text               173087\n",
       "retweet_count      173087\n",
       "country_code         8462\n",
       "followers_count    173087\n",
       "lang               173087\n",
       "dtype: int64"
      ]
     },
     "execution_count": 12,
     "metadata": {},
     "output_type": "execute_result"
    }
   ],
   "source": [
    "es_twitts.count()"
   ]
  },
  {
   "cell_type": "code",
   "execution_count": 13,
   "metadata": {
    "ExecuteTime": {
     "end_time": "2020-05-30T16:12:19.191636Z",
     "start_time": "2020-05-30T16:12:15.944839Z"
    },
    "hidden": true
   },
   "outputs": [
    {
     "data": {
      "text/plain": [
       "created_at         1150403\n",
       "screen_name        1150403\n",
       "text               1150403\n",
       "retweet_count      1150403\n",
       "country_code         57919\n",
       "followers_count    1150403\n",
       "lang               1150403\n",
       "dtype: int64"
      ]
     },
     "execution_count": 13,
     "metadata": {},
     "output_type": "execute_result"
    }
   ],
   "source": [
    "df.count()"
   ]
  },
  {
   "cell_type": "code",
   "execution_count": 14,
   "metadata": {
    "ExecuteTime": {
     "end_time": "2020-05-30T16:27:07.145502Z",
     "start_time": "2020-05-30T16:27:07.106893Z"
    },
    "hidden": true
   },
   "outputs": [
    {
     "data": {
      "text/plain": [
       "created_at         1593\n",
       "screen_name        1593\n",
       "text               1593\n",
       "retweet_count      1593\n",
       "country_code       1593\n",
       "followers_count    1593\n",
       "lang               1593\n",
       "dtype: int64"
      ]
     },
     "execution_count": 14,
     "metadata": {},
     "output_type": "execute_result"
    }
   ],
   "source": [
    "mx_twitts.count()"
   ]
  },
  {
   "cell_type": "markdown",
   "metadata": {},
   "source": [
    "# Chart Total vs ES vs MX"
   ]
  },
  {
   "cell_type": "code",
   "execution_count": 15,
   "metadata": {
    "ExecuteTime": {
     "end_time": "2020-05-30T16:22:44.439912Z",
     "start_time": "2020-05-30T16:22:44.435121Z"
    },
    "hidden": true
   },
   "outputs": [],
   "source": [
    "total_twitts = df.count()['text']\n",
    "total_es = es_twitts.count()['text']\n",
    "total_mx = mx_twitts.count()['text']\n",
    "\n",
    "twitts_total_and_es = {'labels': ['total', 'es', 'mx'], 'values': [total_twitts, total_es, total_mx]} \n",
    "d = pd.DataFrame(data=twitts_total_and_es)"
   ]
  },
  {
   "cell_type": "code",
   "execution_count": 16,
   "metadata": {
    "ExecuteTime": {
     "end_time": "2020-05-30T16:23:03.621815Z",
     "start_time": "2020-05-30T16:23:03.488701Z"
    }
   },
   "outputs": [
    {
     "data": {
      "text/plain": [
       "<matplotlib.axes._subplots.AxesSubplot at 0x2191a1a6448>"
      ]
     },
     "execution_count": 16,
     "metadata": {},
     "output_type": "execute_result"
    },
    {
     "data": {
      "image/png": "[encoded data removed]",
      "text/plain": [
       "<Figure size 432x288 with 1 Axes>"
      ]
     },
     "metadata": {
      "needs_background": "light"
     },
     "output_type": "display_data"
    }
   ],
   "source": [
    "d.plot.bar(x='labels', y='values', rot=0)"
   ]
  },
  {
   "cell_type": "markdown",
   "metadata": {
    "heading_collapsed": true
   },
   "source": [
    "# Es twitts acounting"
   ]
  },
  {
   "cell_type": "code",
   "execution_count": 17,
   "metadata": {
    "ExecuteTime": {
     "end_time": "2020-05-30T16:12:31.612782Z",
     "start_time": "2020-05-30T16:12:23.585947Z"
    },
    "hidden": true
   },
   "outputs": [
    {
     "data": {
      "text/html": [
       "<div>\n",
       "<style scoped>\n",
       "    .dataframe tbody tr th:only-of-type {\n",
       "        vertical-align: middle;\n",
       "    }\n",
       "\n",
       "    .dataframe tbody tr th {\n",
       "        vertical-align: top;\n",
       "    }\n",
       "\n",
       "    .dataframe thead th {\n",
       "        text-align: right;\n",
       "    }\n",
       "</style>\n",
       "<table border=\"1\" class=\"dataframe\">\n",
       "  <thead>\n",
       "    <tr style=\"text-align: right;\">\n",
       "      <th></th>\n",
       "      <th>screen_name</th>\n",
       "      <th>text</th>\n",
       "    </tr>\n",
       "  </thead>\n",
       "  <tbody>\n",
       "    <tr>\n",
       "      <td>65872</td>\n",
       "      <td>lasopapuntocom</td>\n",
       "      <td>451</td>\n",
       "    </tr>\n",
       "    <tr>\n",
       "      <td>37528</td>\n",
       "      <td>ReporteYa</td>\n",
       "      <td>385</td>\n",
       "    </tr>\n",
       "    <tr>\n",
       "      <td>13314</td>\n",
       "      <td>EFEnoticias</td>\n",
       "      <td>229</td>\n",
       "    </tr>\n",
       "    <tr>\n",
       "      <td>1267</td>\n",
       "      <td>A_definitivas</td>\n",
       "      <td>192</td>\n",
       "    </tr>\n",
       "    <tr>\n",
       "      <td>54635</td>\n",
       "      <td>diarioelheraldo</td>\n",
       "      <td>186</td>\n",
       "    </tr>\n",
       "    <tr>\n",
       "      <td>42189</td>\n",
       "      <td>TimeJustOficial</td>\n",
       "      <td>183</td>\n",
       "    </tr>\n",
       "    <tr>\n",
       "      <td>14304</td>\n",
       "      <td>ElPitazoTV</td>\n",
       "      <td>176</td>\n",
       "    </tr>\n",
       "    <tr>\n",
       "      <td>79391</td>\n",
       "      <td>tvnnoticias</td>\n",
       "      <td>175</td>\n",
       "    </tr>\n",
       "    <tr>\n",
       "      <td>65863</td>\n",
       "      <td>lasillarota</td>\n",
       "      <td>169</td>\n",
       "    </tr>\n",
       "    <tr>\n",
       "      <td>53121</td>\n",
       "      <td>covid19BotLatam</td>\n",
       "      <td>156</td>\n",
       "    </tr>\n",
       "  </tbody>\n",
       "</table>\n",
       "</div>"
      ],
      "text/plain": [
       "           screen_name  text\n",
       "65872   lasopapuntocom   451\n",
       "37528        ReporteYa   385\n",
       "13314      EFEnoticias   229\n",
       "1267     A_definitivas   192\n",
       "54635  diarioelheraldo   186\n",
       "42189  TimeJustOficial   183\n",
       "14304       ElPitazoTV   176\n",
       "79391      tvnnoticias   175\n",
       "65863      lasillarota   169\n",
       "53121  covid19BotLatam   156"
      ]
     },
     "execution_count": 17,
     "metadata": {},
     "output_type": "execute_result"
    }
   ],
   "source": [
    "screen_name_total = es_twitts.groupby('screen_name')['text'].nunique().reset_index()\n",
    "\n",
    "ten = screen_name_total.sort_values(by='text', ascending=False).head(10)\n",
    "ten"
   ]
  },
  {
   "cell_type": "markdown",
   "metadata": {
    "ExecuteTime": {
     "end_time": "2020-05-02T21:54:43.285317Z",
     "start_time": "2020-05-02T21:54:43.282767Z"
    },
    "heading_collapsed": true
   },
   "source": [
    "# es twitts accounting Chart"
   ]
  },
  {
   "cell_type": "code",
   "execution_count": 18,
   "metadata": {
    "ExecuteTime": {
     "end_time": "2020-05-30T16:12:31.883554Z",
     "start_time": "2020-05-30T16:12:31.704765Z"
    },
    "hidden": true
   },
   "outputs": [
    {
     "data": {
      "text/plain": [
       "<matplotlib.axes._subplots.AxesSubplot at 0x2191c9cc688>"
      ]
     },
     "execution_count": 18,
     "metadata": {},
     "output_type": "execute_result"
    },
    {
     "data": {
      "image/png": "[encoded data removed]",
      "text/plain": [
       "<Figure size 432x288 with 1 Axes>"
      ]
     },
     "metadata": {
      "needs_background": "light"
     },
     "output_type": "display_data"
    }
   ],
   "source": [
    "ten.plot.bar(x='screen_name', y='text', rot=30)"
   ]
  },
  {
   "cell_type": "markdown",
   "metadata": {
    "heading_collapsed": true
   },
   "source": [
    "# clean memory"
   ]
  },
  {
   "cell_type": "code",
   "execution_count": 19,
   "metadata": {
    "ExecuteTime": {
     "end_time": "2020-05-30T16:12:31.702840Z",
     "start_time": "2020-05-30T16:12:31.700264Z"
    },
    "hidden": true
   },
   "outputs": [],
   "source": [
    "# df = None"
   ]
  },
  {
   "cell_type": "markdown",
   "metadata": {
    "ExecuteTime": {
     "end_time": "2020-05-02T23:11:28.213739Z",
     "start_time": "2020-05-02T23:11:28.211444Z"
    },
    "heading_collapsed": true
   },
   "source": [
    "# Histogram twitts ES Chart"
   ]
  },
  {
   "cell_type": "code",
   "execution_count": 20,
   "metadata": {
    "ExecuteTime": {
     "end_time": "2020-05-30T16:12:40.319019Z",
     "start_time": "2020-05-30T16:12:39.167726Z"
    },
    "hidden": true
   },
   "outputs": [
    {
     "data": {
      "text/plain": [
       "<matplotlib.axes._subplots.AxesSubplot at 0x2191ca88188>"
      ]
     },
     "execution_count": 20,
     "metadata": {},
     "output_type": "execute_result"
    },
    {
     "data": {
      "image/png": "[encoded data removed]",
      "text/plain": [
       "<Figure size 1224x576 with 1 Axes>"
      ]
     },
     "metadata": {
      "needs_background": "light"
     },
     "output_type": "display_data"
    }
   ],
   "source": [
    "line_df = es_twitts.groupby('created_at')['text'].nunique().reset_index()\n",
    "\n",
    "line_df.plot(figsize=(17,8), x='created_at', y='text', rot=45)"
   ]
  },
  {
   "cell_type": "markdown",
   "metadata": {
    "heading_collapsed": true
   },
   "source": [
    "# Country code"
   ]
  },
  {
   "cell_type": "code",
   "execution_count": 21,
   "metadata": {
    "ExecuteTime": {
     "end_time": "2020-05-30T16:12:46.939179Z",
     "start_time": "2020-05-30T16:12:40.320935Z"
    },
    "hidden": true
   },
   "outputs": [
    {
     "data": {
      "text/html": [
       "<div>\n",
       "<style scoped>\n",
       "    .dataframe tbody tr th:only-of-type {\n",
       "        vertical-align: middle;\n",
       "    }\n",
       "\n",
       "    .dataframe tbody tr th {\n",
       "        vertical-align: top;\n",
       "    }\n",
       "\n",
       "    .dataframe thead th {\n",
       "        text-align: right;\n",
       "    }\n",
       "</style>\n",
       "<table border=\"1\" class=\"dataframe\">\n",
       "  <thead>\n",
       "    <tr style=\"text-align: right;\">\n",
       "      <th></th>\n",
       "      <th>country_code</th>\n",
       "      <th>text</th>\n",
       "    </tr>\n",
       "  </thead>\n",
       "  <tbody>\n",
       "    <tr>\n",
       "      <td>23</td>\n",
       "      <td>ES</td>\n",
       "      <td>2005</td>\n",
       "    </tr>\n",
       "    <tr>\n",
       "      <td>47</td>\n",
       "      <td>MX</td>\n",
       "      <td>1389</td>\n",
       "    </tr>\n",
       "    <tr>\n",
       "      <td>3</td>\n",
       "      <td>AR</td>\n",
       "      <td>914</td>\n",
       "    </tr>\n",
       "    <tr>\n",
       "      <td>14</td>\n",
       "      <td>CO</td>\n",
       "      <td>807</td>\n",
       "    </tr>\n",
       "    <tr>\n",
       "      <td>12</td>\n",
       "      <td>CL</td>\n",
       "      <td>742</td>\n",
       "    </tr>\n",
       "    <tr>\n",
       "      <td>67</td>\n",
       "      <td>US</td>\n",
       "      <td>534</td>\n",
       "    </tr>\n",
       "    <tr>\n",
       "      <td>22</td>\n",
       "      <td>EC</td>\n",
       "      <td>486</td>\n",
       "    </tr>\n",
       "    <tr>\n",
       "      <td>69</td>\n",
       "      <td>VE</td>\n",
       "      <td>267</td>\n",
       "    </tr>\n",
       "    <tr>\n",
       "      <td>54</td>\n",
       "      <td>PE</td>\n",
       "      <td>190</td>\n",
       "    </tr>\n",
       "    <tr>\n",
       "      <td>20</td>\n",
       "      <td>DO</td>\n",
       "      <td>168</td>\n",
       "    </tr>\n",
       "    <tr>\n",
       "      <td>53</td>\n",
       "      <td>PA</td>\n",
       "      <td>102</td>\n",
       "    </tr>\n",
       "    <tr>\n",
       "      <td>68</td>\n",
       "      <td>UY</td>\n",
       "      <td>94</td>\n",
       "    </tr>\n",
       "    <tr>\n",
       "      <td>57</td>\n",
       "      <td>PY</td>\n",
       "      <td>85</td>\n",
       "    </tr>\n",
       "    <tr>\n",
       "      <td>8</td>\n",
       "      <td>BO</td>\n",
       "      <td>69</td>\n",
       "    </tr>\n",
       "    <tr>\n",
       "      <td>64</td>\n",
       "      <td>SV</td>\n",
       "      <td>66</td>\n",
       "    </tr>\n",
       "  </tbody>\n",
       "</table>\n",
       "</div>"
      ],
      "text/plain": [
       "   country_code  text\n",
       "23           ES  2005\n",
       "47           MX  1389\n",
       "3            AR   914\n",
       "14           CO   807\n",
       "12           CL   742\n",
       "67           US   534\n",
       "22           EC   486\n",
       "69           VE   267\n",
       "54           PE   190\n",
       "20           DO   168\n",
       "53           PA   102\n",
       "68           UY    94\n",
       "57           PY    85\n",
       "8            BO    69\n",
       "64           SV    66"
      ]
     },
     "execution_count": 21,
     "metadata": {},
     "output_type": "execute_result"
    }
   ],
   "source": [
    "cc = es_twitts.groupby('country_code')['text'].nunique().reset_index()\n",
    "cc.sort_values(by='text', ascending=False, inplace=True)\n",
    "cc.head(15)"
   ]
  },
  {
   "cell_type": "markdown",
   "metadata": {
    "ExecuteTime": {
     "end_time": "2020-05-02T23:30:06.573869Z",
     "start_time": "2020-05-02T23:30:06.428821Z"
    },
    "heading_collapsed": true
   },
   "source": [
    "# Country code chart"
   ]
  },
  {
   "cell_type": "code",
   "execution_count": 22,
   "metadata": {
    "ExecuteTime": {
     "end_time": "2020-05-30T16:12:47.169167Z",
     "start_time": "2020-05-30T16:12:46.969691Z"
    },
    "hidden": true
   },
   "outputs": [
    {
     "data": {
      "text/plain": [
       "<matplotlib.axes._subplots.AxesSubplot at 0x219475a9cc8>"
      ]
     },
     "execution_count": 22,
     "metadata": {},
     "output_type": "execute_result"
    },
    {
     "data": {
      "image/png": "[encoded data removed]",
      "text/plain": [
       "<Figure size 432x288 with 1 Axes>"
      ]
     },
     "metadata": {
      "needs_background": "light"
     },
     "output_type": "display_data"
    }
   ],
   "source": [
    "cc.head(15).plot.bar(x='country_code', y='text', rot=0)"
   ]
  },
  {
   "cell_type": "markdown",
   "metadata": {
    "heading_collapsed": true
   },
   "source": [
    "# Count words"
   ]
  },
  {
   "cell_type": "code",
   "execution_count": 23,
   "metadata": {
    "ExecuteTime": {
     "end_time": "2020-05-30T16:13:47.308403Z",
     "start_time": "2020-05-30T16:12:47.171148Z"
    },
    "hidden": true
   },
   "outputs": [
    {
     "name": "stderr",
     "output_type": "stream",
     "text": [
      "C:\\ProgramData\\Anaconda3\\lib\\site-packages\\pandas\\core\\frame.py:4263: SettingWithCopyWarning: \n",
      "A value is trying to be set on a copy of a slice from a DataFrame\n",
      "\n",
      "See the caveats in the documentation: http://pandas.pydata.org/pandas-docs/stable/user_guide/indexing.html#returning-a-view-versus-a-copy\n",
      "  method=method,\n"
     ]
    }
   ],
   "source": [
    "# change accentsb\n",
    "es_twitts.replace('á','a', regex=True, inplace=True)\n",
    "es_twitts.replace('é','e', regex=True, inplace=True)\n",
    "es_twitts.replace('í','i', regex=True, inplace=True)\n",
    "es_twitts.replace('ó','o', regex=True, inplace=True)\n",
    "es_twitts.replace('ú','u', regex=True, inplace=True)"
   ]
  },
  {
   "cell_type": "code",
   "execution_count": 24,
   "metadata": {
    "ExecuteTime": {
     "end_time": "2020-05-30T16:14:44.675752Z",
     "start_time": "2020-05-30T16:13:47.309692Z"
    },
    "hidden": true
   },
   "outputs": [],
   "source": [
    "es_twitts.replace('#','', regex=True, inplace=True)\n",
    "es_twitts.replace('!','', regex=True, inplace=True)\n",
    "es_twitts.replace('@','', regex=True, inplace=True)\n",
    "es_twitts.replace('$','', regex=True, inplace=True)"
   ]
  },
  {
   "cell_type": "code",
   "execution_count": 25,
   "metadata": {
    "ExecuteTime": {
     "end_time": "2020-05-30T16:14:44.917780Z",
     "start_time": "2020-05-30T16:14:44.677425Z"
    },
    "hidden": true
   },
   "outputs": [],
   "source": [
    "from sklearn.feature_extraction.text import CountVectorizer"
   ]
  },
  {
   "cell_type": "code",
   "execution_count": 26,
   "metadata": {
    "ExecuteTime": {
     "end_time": "2020-05-30T16:15:52.952350Z",
     "start_time": "2020-05-30T16:14:44.919176Z"
    },
    "hidden": true
   },
   "outputs": [],
   "source": [
    "text = es_twitts['text']\n",
    "cv = CountVectorizer()\n",
    "cv_fit=cv.fit_transform(text)"
   ]
  },
  {
   "cell_type": "code",
   "execution_count": 27,
   "metadata": {
    "ExecuteTime": {
     "end_time": "2020-05-30T16:15:57.047147Z",
     "start_time": "2020-05-30T16:15:52.953847Z"
    },
    "hidden": true
   },
   "outputs": [],
   "source": [
    "word_list = cv.get_feature_names()"
   ]
  },
  {
   "cell_type": "code",
   "execution_count": 28,
   "metadata": {
    "ExecuteTime": {
     "end_time": "2020-05-30T16:15:57.068283Z",
     "start_time": "2020-05-30T16:15:57.048815Z"
    },
    "hidden": true
   },
   "outputs": [
    {
     "data": {
      "text/plain": [
       "['00',\n",
       " '000',\n",
       " '0000',\n",
       " '00000001',\n",
       " '00000002',\n",
       " '000000123',\n",
       " '000001',\n",
       " '000003',\n",
       " '0000045',\n",
       " '000005',\n",
       " '00000m',\n",
       " '00001',\n",
       " '0000184',\n",
       " '00002',\n",
       " '000020',\n",
       " '000061',\n",
       " '000062',\n",
       " '00009',\n",
       " '0001',\n",
       " '000114',\n",
       " '00018',\n",
       " '00026v1',\n",
       " '000375',\n",
       " '00043',\n",
       " '00045',\n",
       " '0005',\n",
       " '0006',\n",
       " '000652',\n",
       " '000bs',\n",
       " '000euros',\n",
       " '000m',\n",
       " '000mts²',\n",
       " '000muertod',\n",
       " '000muertos',\n",
       " '000wwpk5yd',\n",
       " '001',\n",
       " '0010va5a6n',\n",
       " '0014',\n",
       " '0016',\n",
       " '001wupttxi',\n",
       " '002',\n",
       " '0023',\n",
       " '0027',\n",
       " '003',\n",
       " '003273',\n",
       " '004',\n",
       " '0044',\n",
       " '005',\n",
       " '0054',\n",
       " '005408',\n",
       " '006',\n",
       " '007',\n",
       " '0072',\n",
       " '007lola_mento',\n",
       " '007mxf',\n",
       " '008',\n",
       " '0086',\n",
       " '009',\n",
       " '0091',\n",
       " '0092ohnzhs',\n",
       " '0093',\n",
       " '0094',\n",
       " '0095',\n",
       " '0096',\n",
       " '00ak',\n",
       " '00am',\n",
       " '00cue2srop',\n",
       " '00ddxi0thy',\n",
       " '00drcah68m',\n",
       " '00dtod9dzk',\n",
       " '00etarako',\n",
       " '00ezbweapx',\n",
       " '00g0a8sdub',\n",
       " '00g4e9t1ol',\n",
       " '00h',\n",
       " '00hrs',\n",
       " '00hs',\n",
       " '00i0gwyi1q',\n",
       " '00ikrd2hda',\n",
       " '00jyrsrxi7',\n",
       " '00la0614ku',\n",
       " '00m',\n",
       " '00nlwgpwhj',\n",
       " '00nmw6gkpd',\n",
       " '00p',\n",
       " '00pm',\n",
       " '00pmrqvqps',\n",
       " '00pubfamb0',\n",
       " '00qpdxm8zi',\n",
       " '00qviymu0n',\n",
       " '00r1dhjvzr',\n",
       " '00rdq2gxx4',\n",
       " '00ujphb8ah',\n",
       " '00usd',\n",
       " '00wadzl7qa',\n",
       " '00wch3vfn5',\n",
       " '00wez3vqy4',\n",
       " '00wvon8gxx',\n",
       " '00x8mfx9ff',\n",
       " '00xxzyotzw',\n",
       " '00zu4sncff',\n",
       " '01',\n",
       " '010',\n",
       " '0100',\n",
       " '0101',\n",
       " '0108775005',\n",
       " '010lugo',\n",
       " '011',\n",
       " '0110',\n",
       " '011415',\n",
       " '012',\n",
       " '0121',\n",
       " '012cmadrid',\n",
       " '012gobcan',\n",
       " '013',\n",
       " '013rjmxfoy',\n",
       " '014',\n",
       " '0147',\n",
       " '015',\n",
       " '015c39j01l',\n",
       " '016',\n",
       " '01605',\n",
       " '017',\n",
       " '018',\n",
       " '018dh5xqnv',\n",
       " '019',\n",
       " '019amlwk41',\n",
       " '01am',\n",
       " '01dephvvbh',\n",
       " '01dmuvkahy',\n",
       " '01f1a631ny',\n",
       " '01fplhku3m',\n",
       " '01fybkkoca',\n",
       " '01itcxjbm9',\n",
       " '01jpmoyb9j',\n",
       " '01jq3kefne',\n",
       " '01khpna6bl',\n",
       " '01kirphjkr',\n",
       " '01kk9i9czn',\n",
       " '01kkygspwf',\n",
       " '01koxy5nef',\n",
       " '01kyzipzsq',\n",
       " '01melymel',\n",
       " '01meygt7qb',\n",
       " '01mjtn5afy',\n",
       " '01n2mv1uhv',\n",
       " '01ndfqcaxa',\n",
       " '01pygwgkol',\n",
       " '01qt0lztld',\n",
       " '01qwohxiy8',\n",
       " '01sbtgggmu',\n",
       " '01tjknu4ls',\n",
       " '01uixinfem',\n",
       " '01ujabld9b',\n",
       " '01uuvip3bn',\n",
       " '01vcou8gpm',\n",
       " '01wiwrcixy',\n",
       " '01wtuh8w3p',\n",
       " '01xteoalev',\n",
       " '01ycysecbt',\n",
       " '01zg4f2jhq',\n",
       " '01zqxeeizn',\n",
       " '02',\n",
       " '020',\n",
       " '020yjdxg37',\n",
       " '021',\n",
       " '0212',\n",
       " '021xamhc8g',\n",
       " '022',\n",
       " '0221',\n",
       " '0221comar',\n",
       " '023',\n",
       " '024',\n",
       " '0243',\n",
       " '02439',\n",
       " '025',\n",
       " '0253',\n",
       " '026',\n",
       " '026ajzyn7l',\n",
       " '027',\n",
       " '0274',\n",
       " '0276',\n",
       " '028',\n",
       " '029',\n",
       " '0290',\n",
       " '0294',\n",
       " '02amdbflvd',\n",
       " '02b016ed5b306ea4d938',\n",
       " '02bqbqilyv',\n",
       " '02bqt8uoab',\n",
       " '02c7xx7syi',\n",
       " '02cqu0aph9',\n",
       " '02dcsdpvls',\n",
       " '02dg9inihl',\n",
       " '02ebav9x7w',\n",
       " '02fb0kukgo',\n",
       " '02fdle92jh',\n",
       " '02fjqal00c',\n",
       " '02g6dfnpny',\n",
       " '02gbcbws4j',\n",
       " '02gy3sc40o',\n",
       " '02hrs',\n",
       " '02j9dqlnat',\n",
       " '02jizkkhws',\n",
       " '02jlbwzmg8',\n",
       " '02jpg26zzz',\n",
       " '02n21qaozz',\n",
       " '02nv5c2scy',\n",
       " '02pbd6yvrz',\n",
       " '02pp4xnrzc',\n",
       " '02qtw39lzw',\n",
       " '02quom0pi3',\n",
       " '02r6xorhno',\n",
       " '02rvo6fths',\n",
       " '02rxqtxh4t',\n",
       " '02s4zytden',\n",
       " '02siuugrkw',\n",
       " '02uzu8upou',\n",
       " '02vwitsap2',\n",
       " '02wt5dkxky',\n",
       " '02y3vqjygk',\n",
       " '02y8uqtg6r',\n",
       " '02yqgbbhl4',\n",
       " '02zaqrbf7s',\n",
       " '02zjw2vg9x',\n",
       " '03',\n",
       " '030',\n",
       " '0302325',\n",
       " '031',\n",
       " '031jayz1hf',\n",
       " '031vs033',\n",
       " '031zi0umkv',\n",
       " '032',\n",
       " '033',\n",
       " '034',\n",
       " '0343',\n",
       " '03476',\n",
       " '034pucfjsi',\n",
       " '035',\n",
       " '0356',\n",
       " '036',\n",
       " '03690jul',\n",
       " '036a0sioea',\n",
       " '036ytvmtoa',\n",
       " '037',\n",
       " '0375해찬라디오',\n",
       " '037cwxbydv',\n",
       " '038',\n",
       " '0380eyl5s4',\n",
       " '0387',\n",
       " '039',\n",
       " '03ath8jpoc',\n",
       " '03b6e1adfm',\n",
       " '03beq25hsc',\n",
       " '03bvw84xoe',\n",
       " '03cbezxiq5',\n",
       " '03cjtq59uv',\n",
       " '03d8fbbwot',\n",
       " '03d8o1ufwv',\n",
       " '03e3cl9qhl',\n",
       " '03esnpnrbu',\n",
       " '03gjchmdbe',\n",
       " '03gkf86cxr',\n",
       " '03hdgzlykd',\n",
       " '03hip8godg',\n",
       " '03ial9jbqa',\n",
       " '03kd7cdakh',\n",
       " '03ktfjjebd',\n",
       " '03kunejlzc',\n",
       " '03lafoxq8f',\n",
       " '03laiersd3',\n",
       " '03lbk10mvi',\n",
       " '03mtypdbem',\n",
       " '03n3suz0cs',\n",
       " '03ndzhzfdt',\n",
       " '03nf2i0936',\n",
       " '03nr0sln1g',\n",
       " '03obnzpxpw',\n",
       " '03oily9o4r',\n",
       " '03opro1inf',\n",
       " '03rh1r3nyv',\n",
       " '03rtauk0lk',\n",
       " '03tnr0db8b',\n",
       " '03txu8x1ti',\n",
       " '03ugyjsvmr',\n",
       " '03vthywknh',\n",
       " '03w5fngrnr',\n",
       " '03yd05zxol',\n",
       " '03znjnun4v',\n",
       " '03zv1naldh',\n",
       " '04',\n",
       " '040',\n",
       " '040tianemy',\n",
       " '041',\n",
       " '0412',\n",
       " '04126493045',\n",
       " '0414',\n",
       " '04146585294',\n",
       " '04149782180',\n",
       " '0416',\n",
       " '042',\n",
       " '0420',\n",
       " '0424',\n",
       " '0426',\n",
       " '044',\n",
       " '045',\n",
       " '0450020901800063964254',\n",
       " '045qkjbjgj',\n",
       " '046',\n",
       " '046996kywe',\n",
       " '046tt91eki',\n",
       " '047',\n",
       " '047011',\n",
       " '0479',\n",
       " '048',\n",
       " '049',\n",
       " '04ago20',\n",
       " '04am',\n",
       " '04brj2b81n',\n",
       " '04c1enxrdx',\n",
       " '04db3n3iqx',\n",
       " '04ebtyh4no',\n",
       " '04elwppvrz',\n",
       " '04eqwldpie',\n",
       " '04fktipkv1',\n",
       " '04fncimbja',\n",
       " '04frmpxrcd',\n",
       " '04fy4vivtp',\n",
       " '04hfwyukai',\n",
       " '04hkgcywqu',\n",
       " '04hlx7vzpk',\n",
       " '04hzvx1y7g',\n",
       " '04josehernand1',\n",
       " '04ka8kl9qn',\n",
       " '04kj0mryd7',\n",
       " '04mwnylwam',\n",
       " '04mzhkfgvs',\n",
       " '04nxaixo81',\n",
       " '04pajlkfeb',\n",
       " '04pm',\n",
       " '04snm3lehy',\n",
       " '04uwn14wj3',\n",
       " '04vmocckiv',\n",
       " '04wcb2dss0',\n",
       " '04wklpuufl',\n",
       " '04xahmwxdq',\n",
       " '04xgggjecd',\n",
       " '04xtsna1eq',\n",
       " '04zggnvcxx',\n",
       " '04ztabyhyq',\n",
       " '04zya4ol09',\n",
       " '05',\n",
       " '050',\n",
       " '0500',\n",
       " '0501',\n",
       " '051',\n",
       " '051cu04lop',\n",
       " '052',\n",
       " '052a39kfby',\n",
       " '053',\n",
       " '0535',\n",
       " '054',\n",
       " '05490vskq6',\n",
       " '055',\n",
       " '056',\n",
       " '0560',\n",
       " '0566',\n",
       " '057',\n",
       " '058',\n",
       " '058dl0g2g3',\n",
       " '058k36hyjv',\n",
       " '059',\n",
       " '05am',\n",
       " '05avuzz6jz',\n",
       " '05ayrlfldf',\n",
       " '05bhdpdzt6',\n",
       " '05bsmrgo2d',\n",
       " '05codyydxv',\n",
       " '05cpis3t6i',\n",
       " '05fgqhyhea',\n",
       " '05fojn4pm2',\n",
       " '05h00',\n",
       " '05h20',\n",
       " '05i5oxf6ig',\n",
       " '05ircfnjhn',\n",
       " '05jui0fheb',\n",
       " '05khhndwqv',\n",
       " '05kmdr6iqs',\n",
       " '05mk7twafc',\n",
       " '05n69awjew',\n",
       " '05nmklpjie',\n",
       " '05nvy0wscb',\n",
       " '05oigbx6k0',\n",
       " '05p3oh1w6c',\n",
       " '05pm',\n",
       " '05tjtmggbt',\n",
       " '05v3jluim4',\n",
       " '05vprj6m5h',\n",
       " '05w5uwmuyt',\n",
       " '05w9qo3api',\n",
       " '05xox3ernc',\n",
       " '05xsw3xmrg',\n",
       " '05xymhkinn',\n",
       " '06',\n",
       " '060',\n",
       " '0607',\n",
       " '060gobes',\n",
       " '061',\n",
       " '061aylror1',\n",
       " '061baleares',\n",
       " '061cantabria',\n",
       " '061epes',\n",
       " '062',\n",
       " '063',\n",
       " '063hapj7es',\n",
       " '064',\n",
       " '065',\n",
       " '066',\n",
       " '068',\n",
       " '069',\n",
       " '0690',\n",
       " '069b6ekzra',\n",
       " '06aquqflth',\n",
       " '06bvwlspcn',\n",
       " '06cumq1bv3',\n",
       " '06czy9mept',\n",
       " '06devvvqrk',\n",
       " '06f6yz5uxq',\n",
       " '06fqkpfbpx',\n",
       " '06h30',\n",
       " '06h50',\n",
       " '06hcfydwyo',\n",
       " '06hpjintzg',\n",
       " '06hz9rjcbk',\n",
       " '06iftgmudj',\n",
       " '06itr3rso7',\n",
       " '06j7he1zjk',\n",
       " '06jalonso',\n",
       " '06lcmzk3ej',\n",
       " '06m8vyottc',\n",
       " '06mm',\n",
       " '06nhr7dquq',\n",
       " '06nuotvssn',\n",
       " '06ohdqfuzv',\n",
       " '06puudpsv3',\n",
       " '06q3sfkcm2',\n",
       " '06qhukx2pd',\n",
       " '06qu5v3lpk',\n",
       " '06rk52qnpz',\n",
       " '06t1bqab5r',\n",
       " '06tslevwzj',\n",
       " '06u0x3ipzt',\n",
       " '06uqf6gbjh',\n",
       " '06vn3txhgn',\n",
       " '06wpvjsn94',\n",
       " '07',\n",
       " '070',\n",
       " '071',\n",
       " '0712',\n",
       " '072',\n",
       " '072ryzbic3',\n",
       " '073',\n",
       " '0730',\n",
       " '074',\n",
       " '075',\n",
       " '076',\n",
       " '076gz3v4wx',\n",
       " '076swsoyhm',\n",
       " '077',\n",
       " '077u7jzx1v',\n",
       " '078',\n",
       " '078tarp5wh',\n",
       " '079',\n",
       " '0793',\n",
       " '079midca2r',\n",
       " '07aq68jufb',\n",
       " '07bylzlg9f',\n",
       " '07fcscpghp',\n",
       " '07fydkemsf',\n",
       " '07h',\n",
       " '07h00',\n",
       " '07h20',\n",
       " '07h30',\n",
       " '07h40',\n",
       " '07hhpk2r2w',\n",
       " '07hov00ohd',\n",
       " '07j57dgo6k',\n",
       " '07jqynyhmg',\n",
       " '07kneqmexf',\n",
       " '07kp83qwp4',\n",
       " '07krwvj0vm',\n",
       " '07m6ltncj1',\n",
       " '07njxvcsnn',\n",
       " '07nmp1z4yj',\n",
       " '07ortxwtcu',\n",
       " '07pm',\n",
       " '07posssbkh',\n",
       " '07pv5hr7b8',\n",
       " '07q85qzu2j',\n",
       " '07qrxrurbo',\n",
       " '07rmm3d6rp',\n",
       " '07se3e77ki',\n",
       " '07sxabklar',\n",
       " '07t7lylul8',\n",
       " '07t7m2dmqa',\n",
       " '07tgzr8isz',\n",
       " '07tucevvzp',\n",
       " '07volvbj82',\n",
       " '07xd4wmubc',\n",
       " '07ybc8bjmh',\n",
       " '08',\n",
       " '080',\n",
       " '0800',\n",
       " '08001919',\n",
       " '08002684319',\n",
       " '0800_cheto_inquieto',\n",
       " '0800biopago',\n",
       " '0800covid19',\n",
       " '08119598462',\n",
       " '082',\n",
       " '0829',\n",
       " '083',\n",
       " '084',\n",
       " '0842oxdpfy',\n",
       " '084x3qmyhw',\n",
       " '085',\n",
       " '086',\n",
       " '0868yix59x',\n",
       " '087',\n",
       " '088',\n",
       " '088r8ilvle',\n",
       " '089',\n",
       " '089ixhk2jn',\n",
       " '08amhvk1d1',\n",
       " '08bhujycla',\n",
       " '08ckp3r4lb',\n",
       " '08cz07qra7',\n",
       " '08fk5uyfvr',\n",
       " '08g1unes6r',\n",
       " '08gjqdiwby',\n",
       " '08gnb2d6vp',\n",
       " '08gv1cfwog',\n",
       " '08gylxsszx',\n",
       " '08h00',\n",
       " '08icsvyggn',\n",
       " '08jryqoxn1',\n",
       " '08lmihmyel',\n",
       " '08mtmk3axq',\n",
       " '08nbehdykw',\n",
       " '08o26uifv3',\n",
       " '08pak0q71t',\n",
       " '08pnwid7h4',\n",
       " '08qodwjzzh',\n",
       " '08trzkhncf',\n",
       " '08u0i1vxju',\n",
       " '08vgoaz0oa',\n",
       " '08vgq5gokr',\n",
       " '08vx6knr0n',\n",
       " '08vzoicxu8',\n",
       " '08x4wvx7qo',\n",
       " '08xynvolry',\n",
       " '09',\n",
       " '090',\n",
       " '0903855708',\n",
       " '0904392578',\n",
       " '090rqujybx',\n",
       " '091',\n",
       " '091arggk5q',\n",
       " '091oficial',\n",
       " '092',\n",
       " '092kzlrtrl',\n",
       " '092ssxclam',\n",
       " '093',\n",
       " '093nsvxm4v',\n",
       " '094',\n",
       " '094mzbld4j',\n",
       " '095',\n",
       " '096',\n",
       " '0965',\n",
       " '0967782701',\n",
       " '097',\n",
       " '0972',\n",
       " '0975',\n",
       " '097730434',\n",
       " '098',\n",
       " '0984567308',\n",
       " '0987736456',\n",
       " '099',\n",
       " '0993258417',\n",
       " '0998692169',\n",
       " '09am',\n",
       " '09c2xnxic0',\n",
       " '09ckpdg5q3',\n",
       " '09d01',\n",
       " '09d06',\n",
       " '09d4bfmyui',\n",
       " '09dsqd9nco',\n",
       " '09f7u3puaz',\n",
       " '09fmdvg0og',\n",
       " '09fw5tmb3n',\n",
       " '09glewvgev',\n",
       " '09h30',\n",
       " '09ihuba87p',\n",
       " '09iv2uzrga',\n",
       " '09jqrxhfg8',\n",
       " '09jt9c79vp',\n",
       " '09ku3vvmg6',\n",
       " '09lqopuvhi',\n",
       " '09macvida',\n",
       " '09mj2cce5z',\n",
       " '09mpdcez8j',\n",
       " '09msexd8po',\n",
       " '09n8km0cjf',\n",
       " '09n9pizkyt',\n",
       " '09nyjnbpgd',\n",
       " '09oxchbqnz',\n",
       " '09pm',\n",
       " '09qcsdbket',\n",
       " '09rkr6xedn',\n",
       " '09s0fsqnxd',\n",
       " '09skckpv71',\n",
       " '09tyetgjkk',\n",
       " '09vejejttv',\n",
       " '09vjtrmgt8',\n",
       " '09vo6mmufp',\n",
       " '09vvyeg0ad',\n",
       " '09wkrg0fjr',\n",
       " '09wlvbannb',\n",
       " '09wpxqfvng',\n",
       " '09xhdmxpw2',\n",
       " '09xlisj3zv',\n",
       " '09xrjlihqu',\n",
       " '09xxosaqxt',\n",
       " '09zesoqmi6',\n",
       " '09zesoyktw',\n",
       " '0_0',\n",
       " '0a0lqzsojg',\n",
       " '0a29nt0jqx',\n",
       " '0a2n4mshzn',\n",
       " '0a3tbutakg',\n",
       " '0a6nxhqkaq',\n",
       " '0a8sfj58tk',\n",
       " '0aanvnll1f',\n",
       " '0aaz4kf6o9',\n",
       " '0abpwkvtq3',\n",
       " '0acufrsscs',\n",
       " '0aekkywulc',\n",
       " '0afgmvzpst',\n",
       " '0afysfll85',\n",
       " '0ahqggxsnv',\n",
       " '0aihofwrhg',\n",
       " '0aitj314c1',\n",
       " '0ajpdsq0zy',\n",
       " '0ajpvgk26d',\n",
       " '0akv2wshoh',\n",
       " '0ale2htsof',\n",
       " '0alo5ulnby',\n",
       " '0alxzrtxqp',\n",
       " '0am5ofzsjw',\n",
       " '0amrnuhxaq',\n",
       " '0anlkt9dud',\n",
       " '0aonqhcovw',\n",
       " '0aowl0wmzv',\n",
       " '0apaiq571c',\n",
       " '0apd0amxcy',\n",
       " '0apraxtr5x',\n",
       " '0aptp2bjm0',\n",
       " '0apzonfjgt',\n",
       " '0apzyz86qy',\n",
       " '0aqectwatp',\n",
       " '0areybirg1',\n",
       " '0arkvdd4tu',\n",
       " '0aszqs6b4y',\n",
       " '0au4j9bakw',\n",
       " '0avcmasxmn',\n",
       " '0avuzw1dk8',\n",
       " '0awafrrm3c',\n",
       " '0awimtasy2',\n",
       " '0awxsfy5ce',\n",
       " '0axfkvc1j8',\n",
       " '0axkvy59ef',\n",
       " '0axqeqnhrz',\n",
       " '0axt1shhlc',\n",
       " '0aykmpzz2t',\n",
       " '0ayudas',\n",
       " '0az3zzlwqc',\n",
       " '0azct9hzfz',\n",
       " '0b0la25cut',\n",
       " '0b1wlcvj80',\n",
       " '0b2gzb7aea',\n",
       " '0b2hkhvdv9',\n",
       " '0b2mlc6tcq',\n",
       " '0b2p870m6s',\n",
       " '0b2zbth16b',\n",
       " '0b3njglanq',\n",
       " '0b5ancnlod',\n",
       " '0b7kut7y3l',\n",
       " '0b8ctunxoi',\n",
       " '0ba5iv52ap',\n",
       " '0baaf82vlj',\n",
       " '0bao1jyrlq',\n",
       " '0bavpvwli4',\n",
       " '0bazezsojp',\n",
       " '0bbxtadilb',\n",
       " '0bbxtautd9',\n",
       " '0bcb92vxta',\n",
       " '0bcxwzcuc0',\n",
       " '0bdk4bxs31',\n",
       " '0bejhqvedf',\n",
       " '0benzvxo7a',\n",
       " '0betczmvrx',\n",
       " '0bexbus1wk',\n",
       " '0bfm2gw1mx',\n",
       " '0bfsx1lghn',\n",
       " '0bfvte9yky',\n",
       " '0bghtwx5in',\n",
       " '0bhgdernbu',\n",
       " '0bhgjcfurm',\n",
       " '0bhgjcntzo',\n",
       " '0bhgwws7yo',\n",
       " '0bhkjj79hy',\n",
       " '0bhmobnlbq',\n",
       " '0bj3cv0fi1',\n",
       " '0bkcznmv6o',\n",
       " '0bkhgcbxj2',\n",
       " '0bl0uetqrf',\n",
       " '0bllznxp90',\n",
       " '0bms6abckj',\n",
       " '0bmxhkcvln',\n",
       " '0bnax7wk9n',\n",
       " '0bnubjkngj',\n",
       " '0bnxyhlawd',\n",
       " '0bp0auok9s',\n",
       " '0bp37ulabi',\n",
       " '0bp7rrlkwe',\n",
       " '0bppunna0p',\n",
       " '0bpu5ragst',\n",
       " '0bqb2rzcaa',\n",
       " '0bqhxrbpmg',\n",
       " '0bqjmwhutv',\n",
       " '0bqp9yqbyp',\n",
       " '0bs554cbbo',\n",
       " '0bskve2hhr',\n",
       " '0bsm3pygtm',\n",
       " '0bsqwsylrk',\n",
       " '0btc2yn5jo',\n",
       " '0bv8f8wyjv',\n",
       " '0bvrkhozol',\n",
       " '0bvtdz2a3d',\n",
       " '0bwhnjwuwa',\n",
       " '0bwyenq0ko',\n",
       " '0bx9yuxpnj',\n",
       " '0byxvriaes',\n",
       " '0bzbt1rfjz',\n",
       " '0bzdz2kpq4',\n",
       " '0bzhdeyiuk',\n",
       " '0bzrssjzvr',\n",
       " '0c0dvpgwq7',\n",
       " '0c19xartlt',\n",
       " '0c1hgakcby',\n",
       " '0c1hrfnseq',\n",
       " '0c1ib6jwax',\n",
       " '0c1jw3b8b5',\n",
       " '0c3u44da71',\n",
       " '0c3vssowh8',\n",
       " '0c41qs2rl4',\n",
       " '0c5ckrmktj',\n",
       " '0c7hiirzc7',\n",
       " '0c8eddandq',\n",
       " '0c92m3ieor',\n",
       " '0c9k9wnrmh',\n",
       " '0ca6keljr3',\n",
       " '0cadpdsyju',\n",
       " '0cbcjxtstr',\n",
       " '0ccd6dvjdq',\n",
       " '0cct20jzt1',\n",
       " '0ccy1ip1ls',\n",
       " '0cd1b6kkdh',\n",
       " '0cda7f81pb',\n",
       " '0cds2r5nx8',\n",
       " '0cerodjtzx',\n",
       " '0cfor2jwo5',\n",
       " '0cfysvqngn',\n",
       " '0cghpbyldx',\n",
       " '0cgjbij6ry',\n",
       " '0cha0a4ag4',\n",
       " '0chguhyqxo',\n",
       " '0chia3txas',\n",
       " '0chsplfbn3',\n",
       " '0ci7r9z2fw',\n",
       " '0cifmw2vuw',\n",
       " '0cip8db98k',\n",
       " '0ciszl9x0w',\n",
       " '0cix7qdjxz',\n",
       " '0cj8sioqow',\n",
       " '0cjnozdyvg',\n",
       " '0cjnteqydk',\n",
       " '0cl0q7dsrt',\n",
       " '0clnscerly',\n",
       " '0cmpq7cc6r',\n",
       " '0cnjrx69ir',\n",
       " '0cnlft1k6p',\n",
       " '0cocaasuar',\n",
       " '0cofmn9vol',\n",
       " '0coqqfymw6',\n",
       " '0covopo1ee',\n",
       " '0coxvsykhn',\n",
       " '0cprfhjl4r',\n",
       " '0cpryrx2zm',\n",
       " '0cpwkrgvba',\n",
       " '0cr14qizjg',\n",
       " '0cr51dgr7o',\n",
       " '0crhtszfuk',\n",
       " '0crojciksz',\n",
       " '0crs1nmx2u',\n",
       " '0cryd7ryug',\n",
       " '0csw3dvkui',\n",
       " '0ct1t8axms',\n",
       " '0cu5l75nkm',\n",
       " '0cuk7aujzr',\n",
       " '0cveztecey',\n",
       " '0cvjw4thgu',\n",
       " '0cvlh1s62j',\n",
       " '0cvp6tdcpg',\n",
       " '0cvy1zhyil',\n",
       " '0cwrtakdup',\n",
       " '0cww4nqn4e',\n",
       " '0cxr68yxga',\n",
       " '0cxxb2bbxg',\n",
       " '0cy3epbikd',\n",
       " '0cyoswzscv',\n",
       " '0cyq5psw0d',\n",
       " '0cyxhqoxgn',\n",
       " '0cz5nz40w4',\n",
       " '0czukfpghm',\n",
       " '0czv3tm6pl',\n",
       " '0czwk1trqw',\n",
       " '0d0v7rwrs0',\n",
       " '0d1odaj4qc',\n",
       " '0d2c9y3lz9',\n",
       " '0d4do3kk5j',\n",
       " '0d51wzvqxp',\n",
       " '0d5909f1f9a4455',\n",
       " '0d5pemg8vy',\n",
       " '0d5r21a5hf',\n",
       " '0d8k3mye38',\n",
       " '0d8sxk6ni4',\n",
       " '0d90vpjvmi',\n",
       " '0dadw6fx42',\n",
       " '0dagmh4oav',\n",
       " '0dalk5bdek',\n",
       " '0danin6ojl',\n",
       " '0dbdwsckyh',\n",
       " '0dbygd45oy',\n",
       " '0dcdohzkzi',\n",
       " '0dcjiuebjd',\n",
       " '0dcsnkeqju',\n",
       " '0ddkqpupid',\n",
       " '0ddzjzoaav',\n",
       " '0dedrbqtmm',\n",
       " '0derod5spf',\n",
       " '0deuau5nfn',\n",
       " '0dex9n4kbq',\n",
       " '0dfehbhmaj',\n",
       " '0dffaqlihj',\n",
       " '0dfl32s3oc',\n",
       " '0dflwodz2l',\n",
       " '0dfonvdrkl',\n",
       " '0dfrlvoz1m',\n",
       " '0dfzqgikws',\n",
       " '0dg3bshjno',\n",
       " '0dh0qahqyh',\n",
       " '0dh4p491ln',\n",
       " '0dhnedbfay',\n",
       " '0dicyb5ldz',\n",
       " '0djg6ek9jh',\n",
       " '0dkvdaxa9v',\n",
       " '0dkypkmlth',\n",
       " '0dl0oqhokm',\n",
       " '0dliecsrdh',\n",
       " '0dm8zn38nh',\n",
       " '0dme1ahqep',\n",
       " '0dmgz4niqd',\n",
       " '0dmoddemsw',\n",
       " '0dmzhppszn',\n",
       " '0dog24tphx',\n",
       " '0dog2dbxvv',\n",
       " '0dogm6gtal',\n",
       " '0dot69wpma',\n",
       " '0dowej45e2',\n",
       " '0dpbvbap0e',\n",
       " '0dq8iroyyi',\n",
       " '0dqu1amm5w',\n",
       " '0dqufxgqux',\n",
       " '0dqzdaeh04',\n",
       " '0drkwzwy5e',\n",
       " '0drxufrmbh',\n",
       " '0dsnp1pt43',\n",
       " '0dt73nnjcw',\n",
       " '0dutlwomct',\n",
       " '0dvexsb14x',\n",
       " '0dw5lmsucd',\n",
       " '0dwbmou5tx',\n",
       " '0dwde0krla',\n",
       " '0dwzbt6pwj',\n",
       " '0dxjs15fwb',\n",
       " '0dxkxel1ge',\n",
       " '0dxn5aw8am',\n",
       " '0dxvqcul0x',\n",
       " '0dxwaz53db',\n",
       " '0dxz24abiq',\n",
       " '0dy3xa3zxw',\n",
       " '0dy8ut4uyp',\n",
       " '0dyactbyay',\n",
       " '0dynuol5ok',\n",
       " '0dyrre0nh2',\n",
       " '0dz9hgq9bl',\n",
       " '0dzh6wtlrt',\n",
       " '0e0rkg6snk',\n",
       " '0e1qfje8dy',\n",
       " '0e1uwwyogu',\n",
       " '0e1x8c6pdn',\n",
       " '0e2ieipwz0',\n",
       " '0e2tkzjgzr',\n",
       " '0e41oxghn4',\n",
       " '0e4fnnueyy',\n",
       " '0e4gxbjqrl',\n",
       " '0e51r8glwi',\n",
       " '0e55w7fiha',\n",
       " '0e70bqjqbf',\n",
       " '0e77w707vm',\n",
       " '0e78ivyfqh',\n",
       " '0e9fevbaml',\n",
       " '0eab22nsya',\n",
       " '0eaculdpmr',\n",
       " '0eavcxkijq',\n",
       " '0eaxmq4pyn',\n",
       " '0ebes1amro',\n",
       " '0ebiu7oah3',\n",
       " '0ebpke0xcy',\n",
       " '0ebqd4ubit',\n",
       " '0ecp5r6xp3',\n",
       " '0ecv168em2',\n",
       " '0edacqmfwc',\n",
       " '0edieqxcmw',\n",
       " '0edildmpu3',\n",
       " '0edish9aoe',\n",
       " '0ee83bl7ez',\n",
       " '0ee97m7lop',\n",
       " '0eealjgjsn',\n",
       " '0eeohivut5',\n",
       " '0eff2mms8h',\n",
       " '0efzscwlaw',\n",
       " '0egkv5u7lt',\n",
       " '0ehdgtfm5y',\n",
       " '0ehqc7biwa',\n",
       " '0ehsonrctw',\n",
       " '0eipjfji6u',\n",
       " '0ejmuym2gs',\n",
       " '0ejqvgqjt9',\n",
       " '0ekcnyvh8y',\n",
       " '0ekyew9fla',\n",
       " '0elqlptw5v',\n",
       " '0elyjvkesi',\n",
       " '0emxj2xx1o',\n",
       " '0endbulvyl',\n",
       " '0enjn3pim2',\n",
       " '0enuvpwr3x',\n",
       " '0eoa7ervzs',\n",
       " '0eotcmayh0',\n",
       " '0epocjpwbd',\n",
       " '0epuquefur',\n",
       " '0eq9etbal8',\n",
       " '0eqfys9kwb',\n",
       " '0eqfzu3zjc',\n",
       " '0ese4i3wbr',\n",
       " '0eskgxltka',\n",
       " '0esu7wyksd',\n",
       " '0et8joc3qe',\n",
       " '0ev03k9pt2',\n",
       " '0ev1xcf3lc',\n",
       " '0evavpjlxx',\n",
       " '0evhtegwdm',\n",
       " '0ew3rrv3q2',\n",
       " '0ewcvdudpf',\n",
       " '0ewhxdmtfd',\n",
       " '0ewwt8tevl',\n",
       " '0eyx07qy00',\n",
       " '0ezdlnmfqo',\n",
       " '0ezdmu8men',\n",
       " '0f',\n",
       " '0f0rsyo2vv',\n",
       " '0f1aokxwsh',\n",
       " '0f1wmrejeo',\n",
       " '0f1xoczodv',\n",
       " '0f2u6zstrl',\n",
       " '0f65xcd7pj',\n",
       " '0f68q09ms7',\n",
       " '0f6isq4lhu',\n",
       " '0f6sflt8j9',\n",
       " ...]"
      ]
     },
     "execution_count": 28,
     "metadata": {},
     "output_type": "execute_result"
    }
   ],
   "source": [
    "word_list"
   ]
  },
  {
   "cell_type": "code",
   "execution_count": 29,
   "metadata": {
    "ExecuteTime": {
     "end_time": "2020-05-30T16:15:57.290798Z",
     "start_time": "2020-05-30T16:15:57.070461Z"
    },
    "hidden": true
   },
   "outputs": [],
   "source": [
    "count_list = np.asarray(cv_fit.sum(axis=0))"
   ]
  },
  {
   "cell_type": "code",
   "execution_count": 30,
   "metadata": {
    "ExecuteTime": {
     "end_time": "2020-05-30T16:15:57.296564Z",
     "start_time": "2020-05-30T16:15:57.292197Z"
    },
    "hidden": true
   },
   "outputs": [
    {
     "data": {
      "text/plain": [
       "array([[1196, 4011,    8, ...,    1,    2,    1]], dtype=int64)"
      ]
     },
     "execution_count": 30,
     "metadata": {},
     "output_type": "execute_result"
    }
   ],
   "source": [
    "count_list"
   ]
  },
  {
   "cell_type": "markdown",
   "metadata": {},
   "source": [
    "# Export clean es twitts to CSV"
   ]
  },
  {
   "cell_type": "code",
   "execution_count": 31,
   "metadata": {},
   "outputs": [],
   "source": [
    "## Export csv twitts in Spanish\n",
    "es_twitts.to_csv(r'..\\data\\clean\\es_twitts.csv', index = None, header=True)"
   ]
  }
 ],
 "metadata": {
  "hide_input": true,
  "kernelspec": {
   "display_name": "Python 3",
   "language": "python",
   "name": "python3"
  },
  "language_info": {
   "codemirror_mode": {
    "name": "ipython",
    "version": 3
   },
   "file_extension": ".py",
   "mimetype": "text/x-python",
   "name": "python",
   "nbconvert_exporter": "python",
   "pygments_lexer": "ipython3",
   "version": "3.7.4"
  },
  "notify_time": "5",
  "toc": {
   "base_numbering": 1,
   "nav_menu": {},
   "number_sections": true,
   "sideBar": true,
   "skip_h1_title": false,
   "title_cell": "Table of Contents",
   "title_sidebar": "Contents",
   "toc_cell": false,
   "toc_position": {
    "height": "calc(100% - 180px)",
    "left": "10px",
    "top": "150px",
    "width": "209.8px"
   },
   "toc_section_display": true,
   "toc_window_display": true
  },
  "varInspector": {
   "cols": {
    "lenName": 16,
    "lenType": 16,
    "lenVar": 40
   },
   "kernels_config": {
    "python": {
     "delete_cmd_postfix": "",
     "delete_cmd_prefix": "del ",
     "library": "var_list.py",
     "varRefreshCmd": "print(var_dic_list())"
    },
    "r": {
     "delete_cmd_postfix": ") ",
     "delete_cmd_prefix": "rm(",
     "library": "var_list.r",
     "varRefreshCmd": "cat(var_dic_list()) "
    }
   },
   "oldHeight": 531.8,
   "position": {
    "height": "553.4px",
    "left": "930px",
    "right": "20px",
    "top": "120px",
    "width": "587.8px"
   },
   "types_to_exclude": [
    "module",
    "function",
    "builtin_function_or_method",
    "instance",
    "_Feature"
   ],
   "varInspector_section_display": "block",
   "window_display": false
  }
 },
 "nbformat": 4,
 "nbformat_minor": 4
}
